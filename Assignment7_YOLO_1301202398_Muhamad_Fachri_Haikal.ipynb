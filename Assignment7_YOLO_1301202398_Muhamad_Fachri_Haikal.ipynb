{
  "nbformat": 4,
  "nbformat_minor": 0,
  "metadata": {
    "kernelspec": {
      "display_name": "Python 3",
      "language": "python",
      "name": "python3"
    },
    "language_info": {
      "codemirror_mode": {
        "name": "ipython",
        "version": 3
      },
      "file_extension": ".py",
      "mimetype": "text/x-python",
      "name": "python",
      "nbconvert_exporter": "python",
      "pygments_lexer": "ipython3",
      "version": "3.6.0"
    },
    "colab": {
      "provenance": [],
      "include_colab_link": true
    }
  },
  "cells": [
    {
      "cell_type": "markdown",
      "metadata": {
        "id": "view-in-github",
        "colab_type": "text"
      },
      "source": [
        "<a href=\"https://colab.research.google.com/github/hklfach/Computer-Vision/blob/main/Assignment7_YOLO_1301202398_Muhamad_Fachri_Haikal.ipynb\" target=\"_parent\"><img src=\"https://colab.research.google.com/assets/colab-badge.svg\" alt=\"Open In Colab\"/></a>"
      ]
    },
    {
      "cell_type": "markdown",
      "source": [
        "# 1301202398 - Muhamad Fachri Haikal"
      ],
      "metadata": {
        "id": "KjrQSDDXEndC"
      }
    },
    {
      "cell_type": "markdown",
      "metadata": {
        "id": "GZjJ0Ph-hPP8"
      },
      "source": [
        "**CII4Q3 Visi Komputer**\n",
        "\n",
        "---\n",
        "\n",
        "\n",
        "\n",
        "#Exercise 7: Car Detection\n",
        "\n",
        "---\n",
        "1.   Lengkapi code pada bagian #YOUR CODE HERE atau #YOUR CODE GOES HERE atau # YOUR CODE STARTS HERE  ...# YOUR CODE ENDS HERE.\n",
        "2.   Tingkatkan akurasi"
      ]
    },
    {
      "cell_type": "markdown",
      "metadata": {
        "id": "_HjcSGxBhHY-"
      },
      "source": [
        "# Car detection\n",
        "\n",
        "You will learn about object detection using the very powerful YOLO model. Many of the ideas in this notebook are described in the two YOLO papers: Redmon et al., 2016 (https://arxiv.org/abs/1506.02640) and Redmon and Farhadi, 2016 (https://arxiv.org/abs/1612.08242). \n",
        "\n",
        "**You will learn to**:\n",
        "- Use object detection on a car detection dataset\n",
        "- Deal with bounding boxes\n",
        "\n",
        "Run the following cell to load the packages and dependencies that are going to be useful for your journey!"
      ]
    },
    {
      "cell_type": "code",
      "metadata": {
        "id": "VBOvFqnwhHZE",
        "colab": {
          "base_uri": "https://localhost:8080/"
        },
        "outputId": "98d021c1-2873-4da5-bd08-f6ed2c571090"
      },
      "source": [
        "import argparse\n",
        "import os\n",
        "import matplotlib.pyplot as plt\n",
        "from matplotlib.pyplot import imshow\n",
        "import scipy.io\n",
        "import scipy.misc\n",
        "import numpy as np\n",
        "import pandas as pd\n",
        "import PIL\n",
        "# import tensorflow as tf\n",
        "import tensorflow.compat.v1 as tf\n",
        "tf.disable_v2_behavior()\n",
        "from keras import backend as K\n",
        "from keras.layers import Input, Lambda, Conv2D\n",
        "from keras.models import load_model, Model\n",
        "import colorsys\n",
        "import imghdr\n",
        "import os\n",
        "import random\n",
        "from keras import backend as K\n",
        "from PIL import Image, ImageDraw, ImageFont\n",
        "\"\"\"Darknet19 Model Defined in Keras.\"\"\"\n",
        "import functools\n",
        "from functools import partial\n",
        "from keras.layers import Conv2D, MaxPooling2D\n",
        "# from keras.layers.advanced_activations import LeakyReLU\n",
        "from keras.layers import ELU, PReLU, LeakyReLU\n",
        "from keras.layers import BatchNormalization\n",
        "from keras.models import Model\n",
        "from keras.regularizers import l2\n",
        "\"\"\"Miscellaneous utility functions.\"\"\"\n",
        "from functools import reduce\n",
        "import configparser\n",
        "import io\n",
        "from collections import defaultdict\n",
        "from keras.layers import (Conv2D, GlobalAveragePooling2D, Input, Lambda,\n",
        "                          MaxPooling2D)\n",
        "from keras.layers import concatenate\n",
        "from keras.utils.vis_utils import plot_model as plot\n",
        "# from yolo_utils import read_classes, read_anchors, generate_colors, preprocess_image, draw_boxes, scale_boxes\n",
        "# from yad2k.models.keras_yolo import yolo_head, yolo_boxes_to_corners, preprocess_true_boxes, yolo_loss, yolo_body\n",
        "\n",
        "%matplotlib inline"
      ],
      "execution_count": 1,
      "outputs": [
        {
          "output_type": "stream",
          "name": "stderr",
          "text": [
            "WARNING:tensorflow:From /usr/local/lib/python3.10/dist-packages/tensorflow/python/compat/v2_compat.py:107: disable_resource_variables (from tensorflow.python.ops.variable_scope) is deprecated and will be removed in a future version.\n",
            "Instructions for updating:\n",
            "non-resource variables are not supported in the long term\n"
          ]
        }
      ]
    },
    {
      "cell_type": "code",
      "source": [
        "def read_classes(classes_path):\n",
        "    with open(classes_path) as f:\n",
        "        class_names = f.readlines()\n",
        "    class_names = [c.strip() for c in class_names]\n",
        "    return class_names\n",
        "\n",
        "def read_anchors(anchors_path):\n",
        "    with open(anchors_path) as f:\n",
        "        anchors = f.readline()\n",
        "        anchors = [float(x) for x in anchors.split(',')]\n",
        "        anchors = np.array(anchors).reshape(-1, 2)\n",
        "    return anchors\n",
        "\n",
        "def generate_colors(class_names):\n",
        "    hsv_tuples = [(x / len(class_names), 1., 1.) for x in range(len(class_names))]\n",
        "    colors = list(map(lambda x: colorsys.hsv_to_rgb(*x), hsv_tuples))\n",
        "    colors = list(map(lambda x: (int(x[0] * 255), int(x[1] * 255), int(x[2] * 255)), colors))\n",
        "    random.seed(10101)  # Fixed seed for consistent colors across runs.\n",
        "    random.shuffle(colors)  # Shuffle colors to decorrelate adjacent classes.\n",
        "    random.seed(None)  # Reset seed to default.\n",
        "    return colors\n",
        "\n",
        "def scale_boxes(boxes, image_shape):\n",
        "    \"\"\" Scales the predicted boxes in order to be drawable on the image\"\"\"\n",
        "    height = image_shape[0]\n",
        "    width = image_shape[1]\n",
        "    image_dims = K.stack([height, width, height, width])\n",
        "    image_dims = K.reshape(image_dims, [1, 4])\n",
        "    boxes = boxes * image_dims\n",
        "    return boxes\n",
        "\n",
        "def preprocess_image(img_path, model_image_size):\n",
        "    image_type = imghdr.what(img_path)\n",
        "    image = Image.open(img_path)\n",
        "    #image.save(\"output_box.png\")\n",
        "    resized_image = image.resize(tuple(reversed(model_image_size)), Image.BICUBIC)\n",
        "    image_data = np.array(resized_image, dtype='float32')\n",
        "    image_data /= 255.\n",
        "    image_data = np.expand_dims(image_data, 0)  # Add batch dimension.\n",
        "    return image, image_data\n",
        "\n",
        "def draw_boxes(image, out_scores, out_boxes, out_classes, class_names, colors):\n",
        "    font = ImageFont.truetype(font='font/FiraMono-Medium.otf',size=np.floor(3e-2 * image.size[1] + 0.5).astype('int32'))\n",
        "    thickness = (image.size[0] + image.size[1]) // 300\n",
        "\n",
        "    for i, c in reversed(list(enumerate(out_classes))):\n",
        "        predicted_class = class_names[c]\n",
        "        box = out_boxes[i]\n",
        "        score = out_scores[i]\n",
        "\n",
        "        label = '{} {:.2f}'.format(predicted_class, score)\n",
        "\n",
        "        draw = ImageDraw.Draw(image)\n",
        "        label_size = draw.textsize(label, font)\n",
        "\n",
        "        top, left, bottom, right = box\n",
        "        top = max(0, np.floor(top + 0.5).astype('int32'))\n",
        "        left = max(0, np.floor(left + 0.5).astype('int32'))\n",
        "        bottom = min(image.size[1], np.floor(bottom + 0.5).astype('int32'))\n",
        "        right = min(image.size[0], np.floor(right + 0.5).astype('int32'))\n",
        "        print(label, (left, top), (right, bottom))\n",
        "\n",
        "        if top - label_size[1] >= 0:\n",
        "            text_origin = np.array([left, top - label_size[1]])\n",
        "        else:\n",
        "            text_origin = np.array([left, top + 1])\n",
        "\n",
        "        # My kingdom for a good redistributable image drawing library.\n",
        "        for i in range(thickness):\n",
        "            draw.rectangle([left + i, top + i, right - i, bottom - i], outline=colors[c])\n",
        "        draw.rectangle([tuple(text_origin), tuple(text_origin + label_size)], fill=colors[c])\n",
        "        draw.text(text_origin, label, fill=(0, 0, 0), font=font)\n",
        "        del draw\n",
        "\n",
        "def yolo_head(feats, anchors, num_classes):\n",
        "    \"\"\"Convert final layer features to bounding box parameters.\n",
        "\n",
        "    Parameters\n",
        "    ----------\n",
        "    feats : tensor\n",
        "        Final convolutional layer features.\n",
        "    anchors : array-like\n",
        "        Anchor box widths and heights.\n",
        "    num_classes : int\n",
        "        Number of target classes.\n",
        "\n",
        "    Returns\n",
        "    -------\n",
        "    box_xy : tensor\n",
        "        x, y box predictions adjusted by spatial location in conv layer.\n",
        "    box_wh : tensor\n",
        "        w, h box predictions adjusted by anchors and conv spatial resolution.\n",
        "    box_conf : tensor\n",
        "        Probability estimate for whether each box contains any object.\n",
        "    box_class_pred : tensor\n",
        "        Probability distribution estimate for each box over class labels.\n",
        "    \"\"\"\n",
        "    num_anchors = len(anchors)\n",
        "    # Reshape to batch, height, width, num_anchors, box_params.\n",
        "    anchors_tensor = K.reshape(K.variable(anchors), [1, 1, 1, num_anchors, 2])\n",
        "    # Static implementation for fixed models.\n",
        "    # TODO: Remove or add option for static implementation.\n",
        "    # _, conv_height, conv_width, _ = K.int_shape(feats)\n",
        "    # conv_dims = K.variable([conv_width, conv_height])\n",
        "\n",
        "    # Dynamic implementation of conv dims for fully convolutional model.\n",
        "    conv_dims = K.shape(feats)[1:3]  # assuming channels last\n",
        "    # In YOLO the height index is the inner most iteration.\n",
        "    conv_height_index = K.arange(0, stop=conv_dims[0])\n",
        "    conv_width_index = K.arange(0, stop=conv_dims[1])\n",
        "    conv_height_index = K.tile(conv_height_index, [conv_dims[1]])\n",
        "\n",
        "    # TODO: Repeat_elements and tf.split doesn't support dynamic splits.\n",
        "    # conv_width_index = K.repeat_elements(conv_width_index, conv_dims[1], axis=0)\n",
        "    conv_width_index = K.tile(K.expand_dims(conv_width_index, 0), [conv_dims[0], 1])\n",
        "    conv_width_index = K.flatten(K.transpose(conv_width_index))\n",
        "    conv_index = K.transpose(K.stack([conv_height_index, conv_width_index]))\n",
        "    conv_index = K.reshape(conv_index, [1, conv_dims[0], conv_dims[1], 1, 2])\n",
        "    conv_index = K.cast(conv_index, K.dtype(feats))\n",
        "    \n",
        "    feats = K.reshape(feats, [-1, conv_dims[0], conv_dims[1], num_anchors, num_classes + 5])\n",
        "    conv_dims = K.cast(K.reshape(conv_dims, [1, 1, 1, 1, 2]), K.dtype(feats))\n",
        "\n",
        "    # Static generation of conv_index:\n",
        "    # conv_index = np.array([_ for _ in np.ndindex(conv_width, conv_height)])\n",
        "    # conv_index = conv_index[:, [1, 0]]  # swap columns for YOLO ordering.\n",
        "    # conv_index = K.variable(\n",
        "    #     conv_index.reshape(1, conv_height, conv_width, 1, 2))\n",
        "    # feats = Reshape(\n",
        "    #     (conv_dims[0], conv_dims[1], num_anchors, num_classes + 5))(feats)\n",
        "\n",
        "    box_confidence = K.sigmoid(feats[..., 4:5])\n",
        "    box_xy = K.sigmoid(feats[..., :2])\n",
        "    box_wh = K.exp(feats[..., 2:4])\n",
        "    box_class_probs = K.softmax(feats[..., 5:])\n",
        "\n",
        "    # Adjust preditions to each spatial grid point and anchor size.\n",
        "    # Note: YOLO iterates over height index before width index.\n",
        "    box_xy = (box_xy + conv_index) / conv_dims\n",
        "    box_wh = box_wh * anchors_tensor / conv_dims\n",
        "\n",
        "    return box_confidence, box_xy, box_wh, box_class_probs\n",
        "\n",
        "\n",
        "def yolo_boxes_to_corners(box_xy, box_wh):\n",
        "    \"\"\"Convert YOLO box predictions to bounding box corners.\"\"\"\n",
        "    box_mins = box_xy - (box_wh / 2.)\n",
        "    box_maxes = box_xy + (box_wh / 2.)\n",
        "\n",
        "    return K.concatenate([\n",
        "        box_mins[..., 1:2],  # y_min\n",
        "        box_mins[..., 0:1],  # x_min\n",
        "        box_maxes[..., 1:2],  # y_max\n",
        "        box_maxes[..., 0:1]  # x_max\n",
        "    ])\n",
        "\n",
        "\n",
        "\n",
        "def yolo_eval_new(yolo_outputs,\n",
        "              image_shape,\n",
        "              max_boxes=10,\n",
        "              score_threshold=.6,\n",
        "              iou_threshold=.5):\n",
        "    \"\"\"Evaluate YOLO model on given input batch and return filtered boxes.\"\"\"\n",
        "    box_confidence, box_xy, box_wh, box_class_probs = yolo_outputs\n",
        "    boxes = yolo_boxes_to_corners(box_xy, box_wh)\n",
        "    boxes, scores, classes = yolo_filter_boxes(\n",
        "        box_confidence, boxes, box_class_probs, threshold=score_threshold)\n",
        "    \n",
        "    # Scale boxes back to original image shape.\n",
        "    height = image_shape[0]\n",
        "    width = image_shape[1]\n",
        "    image_dims = K.stack([height, width, height, width])\n",
        "    image_dims = K.reshape(image_dims, [1, 4])\n",
        "    boxes = boxes * image_dims\n",
        "\n",
        "    # TODO: Something must be done about this ugly hack!\n",
        "    max_boxes_tensor = K.variable(max_boxes, dtype='int32')\n",
        "    K.get_session().run(tf.variables_initializer([max_boxes_tensor]))\n",
        "    import tensorflow.compat.v1 as tfs\n",
        "    tfs.disable_v2_behavior()\n",
        "    nms_index = tfs.image.non_max_suppression(\n",
        "        boxes, scores, max_boxes_tensor, iou_threshold=iou_threshold)\n",
        "    boxes = K.gather(boxes, nms_index)\n",
        "    scores = K.gather(scores, nms_index)\n",
        "    classes = K.gather(classes, nms_index)\n",
        "    \n",
        "    return boxes, scores, classes\n",
        "\n",
        "\n",
        "def preprocess_true_boxes(true_boxes, anchors, image_size):\n",
        "    \"\"\"Find detector in YOLO where ground truth box should appear.\n",
        "\n",
        "    Parameters\n",
        "    ----------\n",
        "    true_boxes : array\n",
        "        List of ground truth boxes in form of relative x, y, w, h, class.\n",
        "        Relative coordinates are in the range [0, 1] indicating a percentage\n",
        "        of the original image dimensions.\n",
        "    anchors : array\n",
        "        List of anchors in form of w, h.\n",
        "        Anchors are assumed to be in the range [0, conv_size] where conv_size\n",
        "        is the spatial dimension of the final convolutional features.\n",
        "    image_size : array-like\n",
        "        List of image dimensions in form of h, w in pixels.\n",
        "\n",
        "    Returns\n",
        "    -------\n",
        "    detectors_mask : array\n",
        "        0/1 mask for detectors in [conv_height, conv_width, num_anchors, 1]\n",
        "        that should be compared with a matching ground truth box.\n",
        "    matching_true_boxes: array\n",
        "        Same shape as detectors_mask with the corresponding ground truth box\n",
        "        adjusted for comparison with predicted parameters at training time.\n",
        "    \"\"\"\n",
        "    height, width = image_size\n",
        "    num_anchors = len(anchors)\n",
        "    # Downsampling factor of 5x 2-stride max_pools == 32.\n",
        "    # TODO: Remove hardcoding of downscaling calculations.\n",
        "    assert height % 32 == 0, 'Image sizes in YOLO_v2 must be multiples of 32.'\n",
        "    assert width % 32 == 0, 'Image sizes in YOLO_v2 must be multiples of 32.'\n",
        "    conv_height = height // 32\n",
        "    conv_width = width // 32\n",
        "    num_box_params = true_boxes.shape[1]\n",
        "    detectors_mask = np.zeros(\n",
        "        (conv_height, conv_width, num_anchors, 1), dtype=np.float32)\n",
        "    matching_true_boxes = np.zeros(\n",
        "        (conv_height, conv_width, num_anchors, num_box_params),\n",
        "        dtype=np.float32)\n",
        "\n",
        "    for box in true_boxes:\n",
        "        # scale box to convolutional feature spatial dimensions\n",
        "        box_class = box[4:5]\n",
        "        box = box[0:4] * np.array(\n",
        "            [conv_width, conv_height, conv_width, conv_height])\n",
        "        i = np.floor(box[1]).astype('int')\n",
        "        j = min(np.floor(box[0]).astype('int'),1)\n",
        "        best_iou = 0\n",
        "        best_anchor = 0\n",
        "                \n",
        "        for k, anchor in enumerate(anchors):\n",
        "            # Find IOU between box shifted to origin and anchor box.\n",
        "            box_maxes = box[2:4] / 2.\n",
        "            box_mins = -box_maxes\n",
        "            anchor_maxes = (anchor / 2.)\n",
        "            anchor_mins = -anchor_maxes\n",
        "\n",
        "            intersect_mins = np.maximum(box_mins, anchor_mins)\n",
        "            intersect_maxes = np.minimum(box_maxes, anchor_maxes)\n",
        "            intersect_wh = np.maximum(intersect_maxes - intersect_mins, 0.)\n",
        "            intersect_area = intersect_wh[0] * intersect_wh[1]\n",
        "            box_area = box[2] * box[3]\n",
        "            anchor_area = anchor[0] * anchor[1]\n",
        "            iou = intersect_area / (box_area + anchor_area - intersect_area)\n",
        "            if iou > best_iou:\n",
        "                best_iou = iou\n",
        "                best_anchor = k\n",
        "                \n",
        "        if best_iou > 0:\n",
        "            detectors_mask[i, j, best_anchor] = 1\n",
        "            adjusted_box = np.array(\n",
        "                [\n",
        "                    box[0] - j, box[1] - i,\n",
        "                    np.log(box[2] / anchors[best_anchor][0]),\n",
        "                    np.log(box[3] / anchors[best_anchor][1]), box_class\n",
        "                ],\n",
        "                dtype=np.float32)\n",
        "            matching_true_boxes[i, j, best_anchor] = adjusted_box\n",
        "    return detectors_mask, matching_true_boxes"
      ],
      "metadata": {
        "id": "UwMWFj_CK1lR"
      },
      "execution_count": 2,
      "outputs": []
    },
    {
      "cell_type": "markdown",
      "metadata": {
        "id": "mXGF9naEhHZc"
      },
      "source": [
        "**Important Note**: As you can see, we import Keras's backend as K. This means that to use a Keras function in this notebook, you will need to write: `K.function(...)`."
      ]
    },
    {
      "cell_type": "markdown",
      "metadata": {
        "id": "567-AQE9hHZe"
      },
      "source": [
        "## 1 - Problem Statement\n",
        "\n",
        "You are working on a self-driving car. As a critical component of this project, you'd like to first build a car detection system. To collect data, you've mounted a camera to the hood (meaning the front) of the car, which takes pictures of the road ahead every few seconds while you drive around. \n",
        "\n",
        "<center>\n",
        "<video width=\"400\" height=\"200\" src=\"nb_images/road_video_compressed2.mp4\" type=\"video/mp4\" controls>\n",
        "</video>\n",
        "</center>\n",
        "\n",
        "<caption><center> Pictures taken from a car-mounted camera while driving around Silicon Valley. <br> We would like to especially thank [drive.ai](https://www.drive.ai/) for providing this dataset! Drive.ai is a company building the brains of self-driving vehicles.\n",
        "</center></caption>\n",
        "\n",
        "<img src=\"nb_images/driveai.png\" style=\"width:100px;height:100;\">\n",
        "\n",
        "You've gathered all these images into a folder and have labelled them by drawing bounding boxes around every car you found. Here's an example of what your bounding boxes look like.\n",
        "\n",
        "<img src=\"nb_images/box_label.png\" style=\"width:500px;height:250;\">\n",
        "<caption><center> <u> **Figure 1** </u>: **Definition of a box**<br> </center></caption>\n",
        "\n",
        "If you have 80 classes that you want YOLO to recognize, you can represent the class label $c$ either as an integer from 1 to 80, or as an 80-dimensional vector (with 80 numbers) one component of which is 1 and the rest of which are 0. The video lectures had used the latter representation; in this notebook, we will use both representations, depending on which is more convenient for a particular step.  \n",
        "\n",
        "In this exercise, you will learn how YOLO works, then apply it to car detection. Because the YOLO model is very computationally expensive to train, we will load pre-trained weights for you to use. "
      ]
    },
    {
      "cell_type": "markdown",
      "metadata": {
        "id": "P5Ceu4Z_hHZh"
      },
      "source": [
        "## 2 - YOLO"
      ]
    },
    {
      "cell_type": "markdown",
      "metadata": {
        "id": "mcyl0HF8hHZj"
      },
      "source": [
        "YOLO (\"you only look once\") is a popular algoritm because it achieves high accuracy while also being able to run in real-time. This algorithm \"only looks once\" at the image in the sense that it requires only one forward propagation pass through the network to make predictions. After non-max suppression, it then outputs recognized objects together with the bounding boxes.\n",
        "\n",
        "### 2.1 - Model details\n",
        "\n",
        "First things to know:\n",
        "- The **input** is a batch of images of shape (m, 608, 608, 3)\n",
        "- The **output** is a list of bounding boxes along with the recognized classes. Each bounding box is represented by 6 numbers $(p_c, b_x, b_y, b_h, b_w, c)$ as explained above. If you expand $c$ into an 80-dimensional vector, each bounding box is then represented by 85 numbers. \n",
        "\n",
        "We will use 5 anchor boxes. So you can think of the YOLO architecture as the following: IMAGE (m, 608, 608, 3) -> DEEP CNN -> ENCODING (m, 19, 19, 5, 85).\n",
        "\n",
        "Lets look in greater detail at what this encoding represents. \n",
        "\n",
        "<img src=\"nb_images/architecture.png\" style=\"width:700px;height:400;\">\n",
        "<caption><center> <u> **Figure 2** </u>: **Encoding architecture for YOLO**<br> </center></caption>\n",
        "\n",
        "If the center/midpoint of an object falls into a grid cell, that grid cell is responsible for detecting that object."
      ]
    },
    {
      "cell_type": "markdown",
      "metadata": {
        "id": "u0V2jVEFhHZn"
      },
      "source": [
        "Since we are using 5 anchor boxes, each of the 19 x19 cells thus encodes information about 5 boxes. Anchor boxes are defined only by their width and height.\n",
        "\n",
        "For simplicity, we will flatten the last two last dimensions of the shape (19, 19, 5, 85) encoding. So the output of the Deep CNN is (19, 19, 425).\n",
        "\n",
        "<img src=\"nb_images/flatten.png\" style=\"width:700px;height:400;\">\n",
        "<caption><center> <u> **Figure 3** </u>: **Flattening the last two last dimensions**<br> </center></caption>"
      ]
    },
    {
      "cell_type": "markdown",
      "metadata": {
        "id": "G6otoDT3hHZq"
      },
      "source": [
        "Now, for each box (of each cell) we will compute the following elementwise product and extract a probability that the box contains a certain class.\n",
        "\n",
        "<img src=\"nb_images/probability_extraction.png\" style=\"width:700px;height:400;\">\n",
        "<caption><center> <u> **Figure 4** </u>: **Find the class detected by each box**<br> </center></caption>\n",
        "\n",
        "Here's one way to visualize what YOLO is predicting on an image:\n",
        "- For each of the 19x19 grid cells, find the maximum of the probability scores (taking a max across both the 5 anchor boxes and across different classes). \n",
        "- Color that grid cell according to what object that grid cell considers the most likely.\n",
        "\n",
        "Doing this results in this picture: \n",
        "\n",
        "<img src=\"nb_images/proba_map.png\" style=\"width:300px;height:300;\">\n",
        "<caption><center> <u> **Figure 5** </u>: Each of the 19x19 grid cells colored according to which class has the largest predicted probability in that cell.<br> </center></caption>\n",
        "\n",
        "Note that this visualization isn't a core part of the YOLO algorithm itself for making predictions; it's just a nice way of visualizing an intermediate result of the algorithm. \n"
      ]
    },
    {
      "cell_type": "markdown",
      "metadata": {
        "id": "AycKadKthHZt"
      },
      "source": [
        "Another way to visualize YOLO's output is to plot the bounding boxes that it outputs. Doing that results in a visualization like this:  \n",
        "\n",
        "<img src=\"nb_images/anchor_map.png\" style=\"width:200px;height:200;\">\n",
        "<caption><center> <u> **Figure 6** </u>: Each cell gives you 5 boxes. In total, the model predicts: 19x19x5 = 1805 boxes just by looking once at the image (one forward pass through the network)! Different colors denote different classes. <br> </center></caption>\n",
        "\n",
        "In the figure above, we plotted only boxes that the model had assigned a high probability to, but this is still too many boxes. You'd like to filter the algorithm's output down to a much smaller number of detected objects. To do so, you'll use non-max suppression. Specifically, you'll carry out these steps: \n",
        "- Get rid of boxes with a low score (meaning, the box is not very confident about detecting a class)\n",
        "- Select only one box when several boxes overlap with each other and detect the same object.\n",
        "\n"
      ]
    },
    {
      "cell_type": "markdown",
      "metadata": {
        "id": "98oe2YCYhHZv"
      },
      "source": [
        "### 2.2 - Filtering with a threshold on class scores\n",
        "\n",
        "You are going to apply a first filter by thresholding. You would like to get rid of any box for which the class \"score\" is less than a chosen threshold. \n",
        "\n",
        "The model gives you a total of 19x19x5x85 numbers, with each box described by 85 numbers. It'll be convenient to rearrange the (19,19,5,85) (or (19,19,425)) dimensional tensor into the following variables:  \n",
        "- `box_confidence`: tensor of shape $(19 \\times 19, 5, 1)$ containing $p_c$ (confidence probability that there's some object) for each of the 5 boxes predicted in each of the 19x19 cells.\n",
        "- `boxes`: tensor of shape $(19 \\times 19, 5, 4)$ containing $(b_x, b_y, b_h, b_w)$ for each of the 5 boxes per cell.\n",
        "- `box_class_probs`: tensor of shape $(19 \\times 19, 5, 80)$ containing the detection probabilities $(c_1, c_2, ... c_{80})$ for each of the 80 classes for each of the 5 boxes per cell.\n",
        "\n",
        "**Exercise**: Implement `yolo_filter_boxes()`.\n",
        "1. Compute box scores by doing the elementwise product as described in Figure 4. The following code may help you choose the right operator: \n",
        "```python\n",
        "a = np.random.randn(19*19, 5, 1)\n",
        "b = np.random.randn(19*19, 5, 80)\n",
        "c = a * b # shape of c will be (19*19, 5, 80)\n",
        "```\n",
        "2. For each box, find:\n",
        "    - the index of the class with the maximum box score ([Hint](https://keras.io/backend/#argmax)) (Be careful with what axis you choose; consider using axis=-1)\n",
        "    - the corresponding box score ([Hint](https://keras.io/backend/#max)) (Be careful with what axis you choose; consider using axis=-1)\n",
        "3. Create a mask by using a threshold. As a reminder: `([0.9, 0.3, 0.4, 0.5, 0.1] < 0.4)` returns: `[False, True, False, False, True]`. The mask should be True for the boxes you want to keep. \n",
        "4. Use TensorFlow to apply the mask to box_class_scores, boxes and box_classes to filter out the boxes we don't want. You should be left with just the subset of boxes you want to keep. ([Hint](https://www.tensorflow.org/api_docs/python/tf/boolean_mask))\n",
        "\n",
        "Reminder: to call a Keras function, you should use `K.function(...)`."
      ]
    },
    {
      "cell_type": "code",
      "metadata": {
        "id": "MnrgbVjthHZx"
      },
      "source": [
        "# GRADED FUNCTION: yolo_filter_boxes\n",
        "\n",
        "def yolo_filter_boxes(box_confidence, boxes, box_class_probs, threshold = .6):\n",
        "    \"\"\"Filters YOLO boxes by thresholding on object and class confidence.\n",
        "    \n",
        "    Arguments:\n",
        "    box_confidence -- tensor of shape (19, 19, 5, 1)\n",
        "    boxes -- tensor of shape (19, 19, 5, 4)\n",
        "    box_class_probs -- tensor of shape (19, 19, 5, 80)\n",
        "    threshold -- real value, if [ highest class probability score < threshold], then get rid of the corresponding box\n",
        "    \n",
        "    Returns:\n",
        "    scores -- tensor of shape (None,), containing the class probability score for selected boxes\n",
        "    boxes -- tensor of shape (None, 4), containing (b_x, b_y, b_h, b_w) coordinates of selected boxes\n",
        "    classes -- tensor of shape (None,), containing the index of the class detected by the selected boxes\n",
        "    \n",
        "    Note: \"None\" is here because you don't know the exact number of selected boxes, as it depends on the threshold. \n",
        "    For example, the actual output size of scores would be (10,) if there are 10 boxes.\n",
        "    \"\"\"\n",
        "    \n",
        "    # Step 1: Compute box scores\n",
        "    ### START CODE HERE ### (≈ 1 line)\n",
        "    box_scores = box_confidence*box_class_probs\n",
        "    ### END CODE HERE ###\n",
        "    \n",
        "    # Step 2: Find the box_classes thanks to the max box_scores, keep track of the corresponding score\n",
        "    ### START CODE HERE ### (≈ 2 lines)\n",
        "    box_classes = K.argmax(box_scores,-1)\n",
        "    box_class_scores = K.max(box_scores,-1)\n",
        "    ### END CODE HERE ###\n",
        "    \n",
        "    # Step 3: Create a filtering mask based on \"box_class_scores\" by using \"threshold\". The mask should have the\n",
        "    # same dimension as box_class_scores, and be True for the boxes you want to keep (with probability >= threshold)\n",
        "    ### START CODE HERE ### (≈ 1 line)\n",
        "    filtering_mask = box_class_scores>threshold\n",
        "    ### END CODE HERE ###\n",
        "    \n",
        "    # Step 4: Apply the mask to scores, boxes and classes\n",
        "    ### START CODE HERE ### (≈ 3 lines)\n",
        "    scores = tf.boolean_mask(box_class_scores,filtering_mask)\n",
        "    boxes = tf.boolean_mask(boxes,filtering_mask)\n",
        "    classes = tf.boolean_mask(box_classes,filtering_mask)\n",
        "    ### END CODE HERE ###\n",
        "    \n",
        "    return scores, boxes, classes"
      ],
      "execution_count": 3,
      "outputs": []
    },
    {
      "cell_type": "code",
      "metadata": {
        "id": "UDbah9UDhHZ-",
        "colab": {
          "base_uri": "https://localhost:8080/"
        },
        "outputId": "7f2dcb80-4e1b-4e8d-c3b7-ef12a125e824"
      },
      "source": [
        "with tf.Session() as test_a:\n",
        "    box_confidence = tf.random_normal([19, 19, 5, 1], mean=1, stddev=4, seed = 1)\n",
        "    boxes = tf.random_normal([19, 19, 5, 4], mean=1, stddev=4, seed = 1)\n",
        "    box_class_probs = tf.random_normal([19, 19, 5, 80], mean=1, stddev=4, seed = 1)\n",
        "    scores, boxes, classes = yolo_filter_boxes(box_confidence, boxes, box_class_probs, threshold = 0.5)\n",
        "    print(\"scores[2] = \" + str(scores[2].eval()))\n",
        "    print(\"boxes[2] = \" + str(boxes[2].eval()))\n",
        "    print(\"classes[2] = \" + str(classes[2].eval()))\n",
        "    print(\"scores.shape = \" + str(scores.shape))\n",
        "    print(\"boxes.shape = \" + str(boxes.shape))\n",
        "    print(\"classes.shape = \" + str(classes.shape))"
      ],
      "execution_count": 4,
      "outputs": [
        {
          "output_type": "stream",
          "name": "stdout",
          "text": [
            "scores[2] = 10.750582\n",
            "boxes[2] = [ 8.426533   3.2713668 -0.5313436 -4.9413733]\n",
            "classes[2] = 7\n",
            "scores.shape = (?,)\n",
            "boxes.shape = (?, 4)\n",
            "classes.shape = (?,)\n"
          ]
        }
      ]
    },
    {
      "cell_type": "markdown",
      "metadata": {
        "id": "f-Rw8sGuhHaL"
      },
      "source": [
        "**Expected Output**:\n",
        "\n",
        "<table>\n",
        "    <tr>\n",
        "        <td>\n",
        "            **scores[2]**\n",
        "        </td>\n",
        "        <td>\n",
        "           10.7506\n",
        "        </td>\n",
        "    </tr>\n",
        "    <tr>\n",
        "        <td>\n",
        "            **boxes[2]**\n",
        "        </td>\n",
        "        <td>\n",
        "           [ 8.42653275  3.27136683 -0.5313437  -4.94137383]\n",
        "        </td>\n",
        "    </tr>\n",
        "\n",
        "    <tr>\n",
        "        <td>\n",
        "            **classes[2]**\n",
        "        </td>\n",
        "        <td>\n",
        "           7\n",
        "        </td>\n",
        "    </tr>\n",
        "        <tr>\n",
        "        <td>\n",
        "            **scores.shape**\n",
        "        </td>\n",
        "        <td>\n",
        "           (?,)\n",
        "        </td>\n",
        "    </tr>\n",
        "    <tr>\n",
        "        <td>\n",
        "            **boxes.shape**\n",
        "        </td>\n",
        "        <td>\n",
        "           (?, 4)\n",
        "        </td>\n",
        "    </tr>\n",
        "\n",
        "    <tr>\n",
        "        <td>\n",
        "            **classes.shape**\n",
        "        </td>\n",
        "        <td>\n",
        "           (?,)\n",
        "        </td>\n",
        "    </tr>\n",
        "\n",
        "</table>"
      ]
    },
    {
      "cell_type": "markdown",
      "metadata": {
        "id": "Do_fh7LehHaO"
      },
      "source": [
        "### 2.3 - Non-max suppression ###\n",
        "\n",
        "Even after filtering by thresholding over the classes scores, you still end up a lot of overlapping boxes. A second filter for selecting the right boxes is called non-maximum suppression (NMS). "
      ]
    },
    {
      "cell_type": "markdown",
      "metadata": {
        "collapsed": true,
        "id": "dHhHEr-shHaQ"
      },
      "source": [
        "<img src=\"nb_images/non-max-suppression.png\" style=\"width:500px;height:400;\">\n",
        "<caption><center> <u> **Figure 7** </u>: In this example, the model has predicted 3 cars, but it's actually 3 predictions of the same car. Running non-max suppression (NMS) will select only the most accurate (highest probabiliy) one of the 3 boxes. <br> </center></caption>\n"
      ]
    },
    {
      "cell_type": "markdown",
      "metadata": {
        "id": "96yKuYdihHaT"
      },
      "source": [
        "Non-max suppression uses the very important function called **\"Intersection over Union\"**, or IoU.\n",
        "<img src=\"nb_images/iou.png\" style=\"width:500px;height:400;\">\n",
        "<caption><center> <u> **Figure 8** </u>: Definition of \"Intersection over Union\". <br> </center></caption>\n",
        "\n",
        "**Exercise**: Implement iou(). Some hints:\n",
        "- In this exercise only, we define a box using its two corners (upper left and lower right): `(x1, y1, x2, y2)` rather than the midpoint and height/width.\n",
        "- To calculate the area of a rectangle you need to multiply its height `(y2 - y1)` by its width `(x2 - x1)`.\n",
        "- You'll also need to find the coordinates `(xi1, yi1, xi2, yi2)` of the intersection of two boxes. Remember that:\n",
        "    - xi1 = maximum of the x1 coordinates of the two boxes\n",
        "    - yi1 = maximum of the y1 coordinates of the two boxes\n",
        "    - xi2 = minimum of the x2 coordinates of the two boxes\n",
        "    - yi2 = minimum of the y2 coordinates of the two boxes\n",
        "- In order to compute the intersection area, you need to make sure the height and width of the intersection are positive, otherwise the intersection area should be zero. Use `max(height, 0)` and `max(width, 0)`.\n",
        "\n",
        "In this code, we use the convention that (0,0) is the top-left corner of an image, (1,0) is the upper-right corner, and (1,1) the lower-right corner. "
      ]
    },
    {
      "cell_type": "code",
      "metadata": {
        "id": "B6uelWa4hHaW"
      },
      "source": [
        "# GRADED FUNCTION: iou\n",
        "\n",
        "def iou(box1, box2):\n",
        "    \"\"\"Implement the intersection over union (IoU) between box1 and box2\n",
        "    \n",
        "    Arguments:\n",
        "    box1 -- first box, list object with coordinates (x1, y1, x2, y2)\n",
        "    box2 -- second box, list object with coordinates (x1, y1, x2, y2)\n",
        "    \"\"\"\n",
        "\n",
        "    # Calculate the (y1, x1, y2, x2) coordinates of the intersection of box1 and box2. Calculate its Area.\n",
        "    ### START CODE HERE ### (≈ 5 lines)\n",
        "  \n",
        "    xi1 = max(box1[0],box2[0])\n",
        "    yi1 = max(box1[1],box2[1])\n",
        "    xi2 = min(box1[2],box2[2])\n",
        "    yi2 = min(box1[3],box2[3])\n",
        "    inter_area = max((yi2 - yi1),0) * max((xi2 - xi1),0)\n",
        "    ### END CODE HERE ###    \n",
        "\n",
        "    # Calculate the Union area by using Formula: Union(A,B) = A + B - Inter(A,B)\n",
        "    ### START CODE HERE ### (≈ 3 lines)\n",
        "    box1_area = (box1[3]-box1[1])*(box1[2]-box1[0])\n",
        "    box2_area = (box2[3]-box2[1])*(box2[2]-box2[0])\n",
        "    union_area = box1_area+box2_area-inter_area\n",
        "    ### END CODE HERE ###\n",
        "    \n",
        "    # compute the IoU\n",
        "    ### START CODE HERE ### (≈ 1 line)\n",
        "    iou = inter_area/union_area\n",
        "    ### END CODE HERE ###\n",
        "\n",
        "    return iou"
      ],
      "execution_count": 5,
      "outputs": []
    },
    {
      "cell_type": "code",
      "metadata": {
        "id": "dotyRzO7hHar",
        "colab": {
          "base_uri": "https://localhost:8080/"
        },
        "outputId": "d55f54b6-96ca-4529-8268-81e42b64e3c2"
      },
      "source": [
        "box1 = (2, 1, 4, 3)\n",
        "box2 = (1, 2, 3, 4) \n",
        "print(\"iou = \" + str(iou(box1, box2)))"
      ],
      "execution_count": 6,
      "outputs": [
        {
          "output_type": "stream",
          "name": "stdout",
          "text": [
            "iou = 0.14285714285714285\n"
          ]
        }
      ]
    },
    {
      "cell_type": "markdown",
      "metadata": {
        "id": "sRkYjLzohHbB"
      },
      "source": [
        "**Expected Output**:\n",
        "\n",
        "<table>\n",
        "    <tr>\n",
        "        <td>\n",
        "            **iou = **\n",
        "        </td>\n",
        "        <td>\n",
        "           0.14285714285714285\n",
        "        </td>\n",
        "    </tr>\n",
        "\n",
        "</table>"
      ]
    },
    {
      "cell_type": "markdown",
      "metadata": {
        "id": "n9IEMa8thHbD"
      },
      "source": [
        "You are now ready to implement non-max suppression. The key steps are: \n",
        "1. Select the box that has the highest score.\n",
        "2. Compute its overlap with all other boxes, and remove boxes that overlap it more than `iou_threshold`.\n",
        "3. Go back to step 1 and iterate until there's no more boxes with a lower score than the current selected box.\n",
        "\n",
        "This will remove all boxes that have a large overlap with the selected boxes. Only the \"best\" boxes remain.\n",
        "\n",
        "**Exercise**: Implement yolo_non_max_suppression() using TensorFlow. TensorFlow has two built-in functions that are used to implement non-max suppression (so you don't actually need to use your `iou()` implementation):\n",
        "- [tf.image.non_max_suppression()](https://www.tensorflow.org/api_docs/python/tf/image/non_max_suppression)\n",
        "- [K.gather()](https://www.tensorflow.org/api_docs/python/tf/keras/backend/gather)"
      ]
    },
    {
      "cell_type": "code",
      "metadata": {
        "id": "mnjzVufGhHbG"
      },
      "source": [
        "# GRADED FUNCTION: yolo_non_max_suppression\n",
        "\n",
        "def yolo_non_max_suppression(scores, boxes, classes, max_boxes = 10, iou_threshold = 0.5):\n",
        "    \"\"\"\n",
        "    Applies Non-max suppression (NMS) to set of boxes\n",
        "    \n",
        "    Arguments:\n",
        "    scores -- tensor of shape (None,), output of yolo_filter_boxes()\n",
        "    boxes -- tensor of shape (None, 4), output of yolo_filter_boxes() that have been scaled to the image size (see later)\n",
        "    classes -- tensor of shape (None,), output of yolo_filter_boxes()\n",
        "    max_boxes -- integer, maximum number of predicted boxes you'd like\n",
        "    iou_threshold -- real value, \"intersection over union\" threshold used for NMS filtering\n",
        "    \n",
        "    Returns:\n",
        "    scores -- tensor of shape (, None), predicted score for each box\n",
        "    boxes -- tensor of shape (4, None), predicted box coordinates\n",
        "    classes -- tensor of shape (, None), predicted class for each box\n",
        "    \n",
        "    Note: The \"None\" dimension of the output tensors has obviously to be less than max_boxes. Note also that this\n",
        "    function will transpose the shapes of scores, boxes, classes. This is made for convenience.\n",
        "    \"\"\"\n",
        "    \n",
        "    max_boxes_tensor = K.variable(max_boxes, dtype='int32')     # tensor to be used in tf.image.non_max_suppression()\n",
        "    K.get_session().run(tf.variables_initializer([max_boxes_tensor])) # initialize variable max_boxes_tensor\n",
        "    \n",
        "    # Use tf.image.non_max_suppression() to get the list of indices corresponding to boxes you keep\n",
        "    ### START CODE HERE ### (≈ 1 line)\n",
        "    nms_indices = tf.image.non_max_suppression(boxes,scores,max_boxes,iou_threshold)\n",
        "    ### END CODE HERE ###\n",
        "    \n",
        "    # Use K.gather() to select only nms_indices from scores, boxes and classes\n",
        "    ### START CODE HERE ### (≈ 3 lines)\n",
        "    scores = K.gather(scores,nms_indices)\n",
        "    boxes = K.gather(boxes,nms_indices)\n",
        "    classes = K.gather(classes,nms_indices)\n",
        "    ### END CODE HERE ###\n",
        "    \n",
        "    return scores, boxes, classes"
      ],
      "execution_count": 7,
      "outputs": []
    },
    {
      "cell_type": "code",
      "metadata": {
        "id": "ExDRRiYFhHbU",
        "colab": {
          "base_uri": "https://localhost:8080/"
        },
        "outputId": "55dbf2e3-c0ae-4637-b7b0-2bb3ca87c950"
      },
      "source": [
        "with tf.Session() as test_b:\n",
        "    scores = tf.random_normal([54,], mean=1, stddev=4, seed = 1)\n",
        "    boxes = tf.random_normal([54, 4], mean=1, stddev=4, seed = 1)\n",
        "    classes = tf.random_normal([54,], mean=1, stddev=4, seed = 1)\n",
        "    scores, boxes, classes = yolo_non_max_suppression(scores, boxes, classes)\n",
        "    print(\"scores[2] = \" + str(scores[2].eval()))\n",
        "    print(\"boxes[2] = \" + str(boxes[2].eval()))\n",
        "    print(\"classes[2] = \" + str(classes[2].eval()))\n",
        "    print(\"scores.shape = \" + str(scores.eval().shape))\n",
        "    print(\"boxes.shape = \" + str(boxes.eval().shape))\n",
        "    print(\"classes.shape = \" + str(classes.eval().shape))"
      ],
      "execution_count": 8,
      "outputs": [
        {
          "output_type": "stream",
          "name": "stdout",
          "text": [
            "scores[2] = 6.938395\n",
            "boxes[2] = [-5.299932    3.1379814   4.450367    0.95942086]\n",
            "classes[2] = -2.2452729\n",
            "scores.shape = (10,)\n",
            "boxes.shape = (10, 4)\n",
            "classes.shape = (10,)\n"
          ]
        }
      ]
    },
    {
      "cell_type": "markdown",
      "metadata": {
        "id": "xPFbrxtvhHbi"
      },
      "source": [
        "**Expected Output**:\n",
        "\n",
        "<table>\n",
        "    <tr>\n",
        "        <td>\n",
        "            **scores[2]**\n",
        "        </td>\n",
        "        <td>\n",
        "           6.9384\n",
        "        </td>\n",
        "    </tr>\n",
        "    <tr>\n",
        "        <td>\n",
        "            **boxes[2]**\n",
        "        </td>\n",
        "        <td>\n",
        "           [-5.299932    3.13798141  4.45036697  0.95942086]\n",
        "        </td>\n",
        "    </tr>\n",
        "\n",
        "    <tr>\n",
        "        <td>\n",
        "            **classes[2]**\n",
        "        </td>\n",
        "        <td>\n",
        "           -2.24527\n",
        "        </td>\n",
        "    </tr>\n",
        "        <tr>\n",
        "        <td>\n",
        "            **scores.shape**\n",
        "        </td>\n",
        "        <td>\n",
        "           (10,)\n",
        "        </td>\n",
        "    </tr>\n",
        "    <tr>\n",
        "        <td>\n",
        "            **boxes.shape**\n",
        "        </td>\n",
        "        <td>\n",
        "           (10, 4)\n",
        "        </td>\n",
        "    </tr>\n",
        "\n",
        "    <tr>\n",
        "        <td>\n",
        "            **classes.shape**\n",
        "        </td>\n",
        "        <td>\n",
        "           (10,)\n",
        "        </td>\n",
        "    </tr>\n",
        "\n",
        "</table>"
      ]
    },
    {
      "cell_type": "markdown",
      "metadata": {
        "id": "tRtD_R9WhHbk"
      },
      "source": [
        "### 2.4 Wrapping up the filtering\n",
        "\n",
        "It's time to implement a function taking the output of the deep CNN (the 19x19x5x85 dimensional encoding) and filtering through all the boxes using the functions you've just implemented. \n",
        "\n",
        "**Exercise**: Implement `yolo_eval()` which takes the output of the YOLO encoding and filters the boxes using score threshold and NMS. There's just one last implementational detail you have to know. There're a few ways of representing boxes, such as via their corners or via their midpoint and height/width. YOLO converts between a few such formats at different times, using the following functions (which we have provided): \n",
        "\n",
        "```python\n",
        "boxes = yolo_boxes_to_corners(box_xy, box_wh) \n",
        "```\n",
        "which converts the yolo box coordinates (x,y,w,h) to box corners' coordinates (x1, y1, x2, y2) to fit the input of `yolo_filter_boxes`\n",
        "```python\n",
        "boxes = scale_boxes(boxes, image_shape)\n",
        "```\n",
        "YOLO's network was trained to run on 608x608 images. If you are testing this data on a different size image--for example, the car detection dataset had 720x1280 images--this step rescales the boxes so that they can be plotted on top of the original 720x1280 image.  \n",
        "\n",
        "Don't worry about these two functions; we'll show you where they need to be called.  "
      ]
    },
    {
      "cell_type": "code",
      "metadata": {
        "id": "dT1fTPFyhHb3"
      },
      "source": [
        "# GRADED FUNCTION: yolo_eval\n",
        "\n",
        "def yolo_eval(yolo_outputs, image_shape = (720., 1280.), max_boxes=10, score_threshold=.6, iou_threshold=.5):\n",
        "    \"\"\"\n",
        "    Converts the output of YOLO encoding (a lot of boxes) to your predicted boxes along with their scores, box coordinates and classes.\n",
        "    \n",
        "    Arguments:\n",
        "    yolo_outputs -- output of the encoding model (for image_shape of (608, 608, 3)), contains 4 tensors:\n",
        "                    box_confidence: tensor of shape (None, 19, 19, 5, 1)\n",
        "                    box_xy: tensor of shape (None, 19, 19, 5, 2)\n",
        "                    box_wh: tensor of shape (None, 19, 19, 5, 2)\n",
        "                    box_class_probs: tensor of shape (None, 19, 19, 5, 80)\n",
        "    image_shape -- tensor of shape (2,) containing the input shape, in this notebook we use (608., 608.) (has to be float32 dtype)\n",
        "    max_boxes -- integer, maximum number of predicted boxes you'd like\n",
        "    score_threshold -- real value, if [ highest class probability score < threshold], then get rid of the corresponding box\n",
        "    iou_threshold -- real value, \"intersection over union\" threshold used for NMS filtering\n",
        "    \n",
        "    Returns:\n",
        "    scores -- tensor of shape (None, ), predicted score for each box\n",
        "    boxes -- tensor of shape (None, 4), predicted box coordinates\n",
        "    classes -- tensor of shape (None,), predicted class for each box\n",
        "    \"\"\"\n",
        "    \n",
        "    ### START CODE HERE ### \n",
        "    \n",
        "    # Retrieve outputs of the YOLO model (≈1 line)\n",
        "    box_confidence, box_xy, box_wh, box_class_probs = yolo_outputs\n",
        "\n",
        "    # Convert boxes to be ready for filtering functions \n",
        "    boxes = yolo_boxes_to_corners(box_xy, box_wh)\n",
        "\n",
        "    # Use one of the functions you've implemented to perform Score-filtering with a threshold of score_threshold (≈1 line)\n",
        "    scores, boxes, classes = yolo_filter_boxes(box_confidence, boxes, box_class_probs, threshold = score_threshold)\n",
        "    \n",
        "    # Scale boxes back to original image shape.\n",
        "    boxes = scale_boxes(boxes, image_shape)\n",
        "\n",
        "    # Use one of the functions you've implemented to perform Non-max suppression with a threshold of iou_threshold (≈1 line)\n",
        "    scores, boxes, classes = yolo_non_max_suppression(scores, boxes, classes, max_boxes, iou_threshold)\n",
        "    \n",
        "    ### END CODE HERE ###\n",
        "    \n",
        "    return scores, boxes, classes"
      ],
      "execution_count": 9,
      "outputs": []
    },
    {
      "cell_type": "code",
      "metadata": {
        "id": "02xPW24HhHcI",
        "colab": {
          "base_uri": "https://localhost:8080/"
        },
        "outputId": "b0b9194e-e768-463b-ec55-23f3a81cf7fb"
      },
      "source": [
        "with tf.Session() as test_b:\n",
        "    yolo_outputs = (tf.random_normal([19, 19, 5, 1], mean=1, stddev=4, seed = 1),\n",
        "                    tf.random_normal([19, 19, 5, 2], mean=1, stddev=4, seed = 1),\n",
        "                    tf.random_normal([19, 19, 5, 2], mean=1, stddev=4, seed = 1),\n",
        "                    tf.random_normal([19, 19, 5, 80], mean=1, stddev=4, seed = 1))\n",
        "    scores, boxes, classes = yolo_eval(yolo_outputs)\n",
        "    print(\"scores[2] = \" + str(scores[2].eval()))\n",
        "    print(\"boxes[2] = \" + str(boxes[2].eval()))\n",
        "    print(\"classes[2] = \" + str(classes[2].eval()))\n",
        "    print(\"scores.shape = \" + str(scores.eval().shape))\n",
        "    print(\"boxes.shape = \" + str(boxes.eval().shape))\n",
        "    print(\"classes.shape = \" + str(classes.eval().shape))"
      ],
      "execution_count": 10,
      "outputs": [
        {
          "output_type": "stream",
          "name": "stdout",
          "text": [
            "scores[2] = 138.79124\n",
            "boxes[2] = [1292.3297  -278.52167 3876.9893  -835.56494]\n",
            "classes[2] = 54\n",
            "scores.shape = (10,)\n",
            "boxes.shape = (10, 4)\n",
            "classes.shape = (10,)\n"
          ]
        }
      ]
    },
    {
      "cell_type": "markdown",
      "metadata": {
        "collapsed": true,
        "id": "ZPaXJtCchHcT"
      },
      "source": [
        "**Expected Output**:\n",
        "\n",
        "<table>\n",
        "    <tr>\n",
        "        <td>\n",
        "            **scores[2]**\n",
        "        </td>\n",
        "        <td>\n",
        "           138.791\n",
        "        </td>\n",
        "    </tr>\n",
        "    <tr>\n",
        "        <td>\n",
        "            **boxes[2]**\n",
        "        </td>\n",
        "        <td>\n",
        "           [ 1292.32971191  -278.52166748  3876.98925781  -835.56494141]\n",
        "        </td>\n",
        "    </tr>\n",
        "\n",
        "    <tr>\n",
        "        <td>\n",
        "            **classes[2]**\n",
        "        </td>\n",
        "        <td>\n",
        "           54\n",
        "        </td>\n",
        "    </tr>\n",
        "        <tr>\n",
        "        <td>\n",
        "            **scores.shape**\n",
        "        </td>\n",
        "        <td>\n",
        "           (10,)\n",
        "        </td>\n",
        "    </tr>\n",
        "    <tr>\n",
        "        <td>\n",
        "            **boxes.shape**\n",
        "        </td>\n",
        "        <td>\n",
        "           (10, 4)\n",
        "        </td>\n",
        "    </tr>\n",
        "\n",
        "    <tr>\n",
        "        <td>\n",
        "            **classes.shape**\n",
        "        </td>\n",
        "        <td>\n",
        "           (10,)\n",
        "        </td>\n",
        "    </tr>\n",
        "\n",
        "</table>"
      ]
    },
    {
      "cell_type": "markdown",
      "metadata": {
        "id": "7QOmy8-BhHcU"
      },
      "source": [
        "<font color='blue'>\n",
        "**Summary for YOLO**:\n",
        "- Input image (608, 608, 3)\n",
        "- The input image goes through a CNN, resulting in a (19,19,5,85) dimensional output. \n",
        "- After flattening the last two dimensions, the output is a volume of shape (19, 19, 425):\n",
        "    - Each cell in a 19x19 grid over the input image gives 425 numbers. \n",
        "    - 425 = 5 x 85 because each cell contains predictions for 5 boxes, corresponding to 5 anchor boxes, as seen in lecture. \n",
        "    - 85 = 5 + 80 where 5 is because $(p_c, b_x, b_y, b_h, b_w)$ has 5 numbers, and and 80 is the number of classes we'd like to detect\n",
        "- You then select only few boxes based on:\n",
        "    - Score-thresholding: throw away boxes that have detected a class with a score less than the threshold\n",
        "    - Non-max suppression: Compute the Intersection over Union and avoid selecting overlapping boxes\n",
        "- This gives you YOLO's final output. "
      ]
    },
    {
      "cell_type": "markdown",
      "metadata": {
        "id": "I_JQsM4LhHcW"
      },
      "source": [
        "## 3 - Test YOLO pretrained model on images"
      ]
    },
    {
      "cell_type": "markdown",
      "metadata": {
        "id": "vUafgOBjhHcY"
      },
      "source": [
        "In this part, you are going to use a pretrained model and test it on the car detection dataset. As usual, you start by **creating a session to start your graph**. Run the following cell."
      ]
    },
    {
      "cell_type": "code",
      "metadata": {
        "id": "8fKcvcXThHcb"
      },
      "source": [
        "sess = K.get_session()"
      ],
      "execution_count": 11,
      "outputs": []
    },
    {
      "cell_type": "markdown",
      "metadata": {
        "id": "F924NHNlhHcn"
      },
      "source": [
        "### 3.1 - Defining classes, anchors and image shape."
      ]
    },
    {
      "cell_type": "markdown",
      "metadata": {
        "id": "i6lgmLZlhHct"
      },
      "source": [
        "Recall that we are trying to detect 80 classes, and are using 5 anchor boxes. We have gathered the information about the 80 classes and 5 boxes in two files \"coco_classes.txt\" and \"yolo_anchors.txt\". Let's load these quantities into the model by running the next cell. \n",
        "\n",
        "The car detection dataset has 720x1280 images, which we've pre-processed into 608x608 images. "
      ]
    },
    {
      "cell_type": "code",
      "source": [
        "!mkdir model_data\n",
        "!wget https://github.com/dabasajay/YOLO-Object-Detection/raw/5db081c8558d9d8aa82f1adfe7df6b5ce764b4a2/model_data/coco_classes.txt\n",
        "!mv coco_classes.txt model_data\n",
        "!wget https://raw.githubusercontent.com/dabasajay/YOLO-Object-Detection/5db081c8558d9d8aa82f1adfe7df6b5ce764b4a2/model_data/yolo_anchors.txt\n",
        "!mv yolo_anchors.txt model_data\n",
        "!mkdir images\n",
        "# download test.jpg image manually link below instead using wget gives uncompatible file\n",
        "# !wget https://github.com/cryer/YOLOv2/blob/f664b1a3d182c981adf3cc60d30aec4af548857d/image/test.jpg\n",
        "# !mv test.jpg images\n",
        "!mkdir font\n",
        "# download font manually using link below instead using wget gives uncompatible file\n",
        "# !wget https://github.com/mozilla/Fira/blob/fd8c8c0a3d353cd99e8ca1662942d165e6961407/otf/FiraMono-Medium.otf\n",
        "# !mv FiraMono-Medium.otf font\n",
        "!mkdir out"
      ],
      "metadata": {
        "colab": {
          "base_uri": "https://localhost:8080/"
        },
        "id": "JMmsjP353PFX",
        "outputId": "950e3dff-60de-4cae-b3c7-05ffd549f34c"
      },
      "execution_count": 12,
      "outputs": [
        {
          "output_type": "stream",
          "name": "stdout",
          "text": [
            "mkdir: cannot create directory ‘model_data’: File exists\n",
            "--2023-05-19 08:18:47--  https://github.com/dabasajay/YOLO-Object-Detection/raw/5db081c8558d9d8aa82f1adfe7df6b5ce764b4a2/model_data/coco_classes.txt\n",
            "Resolving github.com (github.com)... 192.30.255.113\n",
            "Connecting to github.com (github.com)|192.30.255.113|:443... connected.\n",
            "HTTP request sent, awaiting response... 302 Found\n",
            "Location: https://raw.githubusercontent.com/dabasajay/YOLO-Object-Detection/5db081c8558d9d8aa82f1adfe7df6b5ce764b4a2/model_data/coco_classes.txt [following]\n",
            "--2023-05-19 08:18:47--  https://raw.githubusercontent.com/dabasajay/YOLO-Object-Detection/5db081c8558d9d8aa82f1adfe7df6b5ce764b4a2/model_data/coco_classes.txt\n",
            "Resolving raw.githubusercontent.com (raw.githubusercontent.com)... 185.199.108.133, 185.199.109.133, 185.199.110.133, ...\n",
            "Connecting to raw.githubusercontent.com (raw.githubusercontent.com)|185.199.108.133|:443... connected.\n",
            "HTTP request sent, awaiting response... 200 OK\n",
            "Length: 625 [text/plain]\n",
            "Saving to: ‘coco_classes.txt’\n",
            "\n",
            "coco_classes.txt    100%[===================>]     625  --.-KB/s    in 0s      \n",
            "\n",
            "2023-05-19 08:18:47 (25.1 MB/s) - ‘coco_classes.txt’ saved [625/625]\n",
            "\n",
            "--2023-05-19 08:18:47--  https://raw.githubusercontent.com/dabasajay/YOLO-Object-Detection/5db081c8558d9d8aa82f1adfe7df6b5ce764b4a2/model_data/yolo_anchors.txt\n",
            "Resolving raw.githubusercontent.com (raw.githubusercontent.com)... 185.199.108.133, 185.199.109.133, 185.199.110.133, ...\n",
            "Connecting to raw.githubusercontent.com (raw.githubusercontent.com)|185.199.108.133|:443... connected.\n",
            "HTTP request sent, awaiting response... 200 OK\n",
            "Length: 90 [text/plain]\n",
            "Saving to: ‘yolo_anchors.txt’\n",
            "\n",
            "yolo_anchors.txt    100%[===================>]      90  --.-KB/s    in 0s      \n",
            "\n",
            "2023-05-19 08:18:48 (3.82 MB/s) - ‘yolo_anchors.txt’ saved [90/90]\n",
            "\n",
            "mkdir: cannot create directory ‘images’: File exists\n",
            "--2023-05-19 08:18:48--  https://github.com/cryer/YOLOv2/blob/f664b1a3d182c981adf3cc60d30aec4af548857d/image/test.jpg\n",
            "Resolving github.com (github.com)... 192.30.255.113\n",
            "Connecting to github.com (github.com)|192.30.255.113|:443... connected.\n",
            "HTTP request sent, awaiting response... 200 OK\n",
            "Length: unspecified [text/html]\n",
            "Saving to: ‘test.jpg’\n",
            "\n",
            "test.jpg                [ <=>                ] 136.11K  --.-KB/s    in 0.03s   \n",
            "\n",
            "2023-05-19 08:18:48 (5.20 MB/s) - ‘test.jpg’ saved [139379]\n",
            "\n",
            "mkdir: cannot create directory ‘font’: File exists\n",
            "--2023-05-19 08:18:48--  https://github.com/mozilla/Fira/blob/fd8c8c0a3d353cd99e8ca1662942d165e6961407/otf/FiraMono-Medium.otf\n",
            "Resolving github.com (github.com)... 192.30.255.113\n",
            "Connecting to github.com (github.com)|192.30.255.113|:443... connected.\n",
            "HTTP request sent, awaiting response... 200 OK\n",
            "Length: unspecified [text/html]\n",
            "Saving to: ‘FiraMono-Medium.otf’\n",
            "\n",
            "FiraMono-Medium.otf     [ <=>                ] 136.41K  --.-KB/s    in 0.02s   \n",
            "\n",
            "2023-05-19 08:18:49 (5.82 MB/s) - ‘FiraMono-Medium.otf’ saved [139688]\n",
            "\n",
            "mkdir: cannot create directory ‘out’: File exists\n"
          ]
        }
      ]
    },
    {
      "cell_type": "code",
      "metadata": {
        "id": "UCmtPOGRhHcv"
      },
      "source": [
        "class_names = read_classes(\"model_data/coco_classes.txt\")\n",
        "anchors = read_anchors(\"model_data/yolo_anchors.txt\")\n",
        "image_shape = (720., 1280.)    "
      ],
      "execution_count": 13,
      "outputs": []
    },
    {
      "cell_type": "markdown",
      "metadata": {
        "id": "xIR3VmSEhHc9"
      },
      "source": [
        "### 3.2 - Loading a pretrained model\n",
        "\n",
        "Training a YOLO model takes a very long time and requires a fairly large dataset of labelled bounding boxes for a large range of target classes. You are going to load an existing pretrained Keras YOLO model stored in \"yolo.h5\". (These weights come from the official YOLO website, and were converted using a function written by Allan Zelener. References are at the end of this notebook. Technically, these are the parameters from the \"YOLOv2\" model, but we will more simply refer to it as \"YOLO\" in this notebook.) Run the cell below to load the model from this file."
      ]
    },
    {
      "cell_type": "code",
      "source": [
        "!wget https://pjreddie.com/media/files/yolov2.weights\n",
        "!wget https://raw.githubusercontent.com/pjreddie/darknet/master/cfg/yolov2.cfg"
      ],
      "metadata": {
        "colab": {
          "base_uri": "https://localhost:8080/"
        },
        "id": "vX2J88k6Whh_",
        "outputId": "e338fa1a-f59a-4252-da01-0094a797dc3f"
      },
      "execution_count": 14,
      "outputs": [
        {
          "output_type": "stream",
          "name": "stdout",
          "text": [
            "--2023-05-19 08:18:49--  https://pjreddie.com/media/files/yolov2.weights\n",
            "Resolving pjreddie.com (pjreddie.com)... 128.208.4.108\n",
            "Connecting to pjreddie.com (pjreddie.com)|128.208.4.108|:443... connected.\n",
            "HTTP request sent, awaiting response... 200 OK\n",
            "Length: 203934260 (194M) [application/octet-stream]\n",
            "Saving to: ‘yolov2.weights.1’\n",
            "\n",
            "yolov2.weights.1    100%[===================>] 194.49M  89.4MB/s    in 2.2s    \n",
            "\n",
            "2023-05-19 08:18:51 (89.4 MB/s) - ‘yolov2.weights.1’ saved [203934260/203934260]\n",
            "\n",
            "--2023-05-19 08:18:51--  https://raw.githubusercontent.com/pjreddie/darknet/master/cfg/yolov2.cfg\n",
            "Resolving raw.githubusercontent.com (raw.githubusercontent.com)... 185.199.108.133, 185.199.109.133, 185.199.110.133, ...\n",
            "Connecting to raw.githubusercontent.com (raw.githubusercontent.com)|185.199.108.133|:443... connected.\n",
            "HTTP request sent, awaiting response... 200 OK\n",
            "Length: 2726 (2.7K) [text/plain]\n",
            "Saving to: ‘yolov2.cfg.1’\n",
            "\n",
            "yolov2.cfg.1        100%[===================>]   2.66K  --.-KB/s    in 0s      \n",
            "\n",
            "2023-05-19 08:18:52 (22.5 MB/s) - ‘yolov2.cfg.1’ saved [2726/2726]\n",
            "\n"
          ]
        }
      ]
    },
    {
      "cell_type": "code",
      "source": [
        "!python3 yad2k.py yolov2.cfg yolov2.weights model_data/yolo.h5"
      ],
      "metadata": {
        "colab": {
          "base_uri": "https://localhost:8080/"
        },
        "id": "2tmsBocGWkwU",
        "outputId": "16472140-2657-4626-e639-e9da849ba089"
      },
      "execution_count": 15,
      "outputs": [
        {
          "output_type": "stream",
          "name": "stdout",
          "text": [
            "2023-05-19 08:18:56.428635: W tensorflow/compiler/tf2tensorrt/utils/py_utils.cc:38] TF-TRT Warning: Could not find TensorRT\n",
            "Loading weights.\n",
            "Weights Header:  [       0        1        0 32013312]\n",
            "Parsing Darknet config.\n",
            "Creating Keras model.\n",
            "Parsing section net_0\n",
            "Parsing section convolutional_0\n",
            "conv2d bn leaky (3, 3, 3, 32)\n",
            "Parsing section maxpool_0\n",
            "Parsing section convolutional_1\n",
            "conv2d bn leaky (3, 3, 32, 64)\n",
            "Parsing section maxpool_1\n",
            "Parsing section convolutional_2\n",
            "conv2d bn leaky (3, 3, 64, 128)\n",
            "Parsing section convolutional_3\n",
            "conv2d bn leaky (1, 1, 128, 64)\n",
            "Parsing section convolutional_4\n",
            "conv2d bn leaky (3, 3, 64, 128)\n",
            "Parsing section maxpool_2\n",
            "Parsing section convolutional_5\n",
            "conv2d bn leaky (3, 3, 128, 256)\n",
            "Parsing section convolutional_6\n",
            "conv2d bn leaky (1, 1, 256, 128)\n",
            "Parsing section convolutional_7\n",
            "conv2d bn leaky (3, 3, 128, 256)\n",
            "Parsing section maxpool_3\n",
            "Parsing section convolutional_8\n",
            "conv2d bn leaky (3, 3, 256, 512)\n",
            "Parsing section convolutional_9\n",
            "conv2d bn leaky (1, 1, 512, 256)\n",
            "Parsing section convolutional_10\n",
            "conv2d bn leaky (3, 3, 256, 512)\n",
            "Parsing section convolutional_11\n",
            "conv2d bn leaky (1, 1, 512, 256)\n",
            "Parsing section convolutional_12\n",
            "conv2d bn leaky (3, 3, 256, 512)\n",
            "Parsing section maxpool_4\n",
            "Parsing section convolutional_13\n",
            "conv2d bn leaky (3, 3, 512, 1024)\n",
            "Parsing section convolutional_14\n",
            "conv2d bn leaky (1, 1, 1024, 512)\n",
            "Parsing section convolutional_15\n",
            "conv2d bn leaky (3, 3, 512, 1024)\n",
            "Parsing section convolutional_16\n",
            "conv2d bn leaky (1, 1, 1024, 512)\n",
            "Parsing section convolutional_17\n",
            "conv2d bn leaky (3, 3, 512, 1024)\n",
            "Parsing section convolutional_18\n",
            "conv2d bn leaky (3, 3, 1024, 1024)\n",
            "Parsing section convolutional_19\n",
            "conv2d bn leaky (3, 3, 1024, 1024)\n",
            "Parsing section route_0\n",
            "Parsing section convolutional_20\n",
            "conv2d bn leaky (1, 1, 512, 64)\n",
            "Parsing section reorg_0\n",
            "Parsing section route_1\n",
            "Concatenating route layers: [<KerasTensor: shape=(None, 19, 19, 256) dtype=float32 (created by layer 'space_to_depth_x2')>, <KerasTensor: shape=(None, 19, 19, 1024) dtype=float32 (created by layer 'leaky_re_lu_19')>]\n",
            "Parsing section convolutional_21\n",
            "conv2d bn leaky (3, 3, 1280, 1024)\n",
            "Parsing section convolutional_22\n",
            "conv2d    linear (1, 1, 1024, 425)\n",
            "Parsing section region_0\n",
            "Model: \"model\"\n",
            "__________________________________________________________________________________________________\n",
            " Layer (type)                   Output Shape         Param #     Connected to                     \n",
            "==================================================================================================\n",
            " input_1 (InputLayer)           [(None, 608, 608, 3  0           []                               \n",
            "                                )]                                                                \n",
            "                                                                                                  \n",
            " conv2d (Conv2D)                (None, 608, 608, 32  864         ['input_1[0][0]']                \n",
            "                                )                                                                 \n",
            "                                                                                                  \n",
            " batch_normalization (BatchNorm  (None, 608, 608, 32  128        ['conv2d[0][0]']                 \n",
            " alization)                     )                                                                 \n",
            "                                                                                                  \n",
            " leaky_re_lu (LeakyReLU)        (None, 608, 608, 32  0           ['batch_normalization[0][0]']    \n",
            "                                )                                                                 \n",
            "                                                                                                  \n",
            " max_pooling2d (MaxPooling2D)   (None, 304, 304, 32  0           ['leaky_re_lu[0][0]']            \n",
            "                                )                                                                 \n",
            "                                                                                                  \n",
            " conv2d_1 (Conv2D)              (None, 304, 304, 64  18432       ['max_pooling2d[0][0]']          \n",
            "                                )                                                                 \n",
            "                                                                                                  \n",
            " batch_normalization_1 (BatchNo  (None, 304, 304, 64  256        ['conv2d_1[0][0]']               \n",
            " rmalization)                   )                                                                 \n",
            "                                                                                                  \n",
            " leaky_re_lu_1 (LeakyReLU)      (None, 304, 304, 64  0           ['batch_normalization_1[0][0]']  \n",
            "                                )                                                                 \n",
            "                                                                                                  \n",
            " max_pooling2d_1 (MaxPooling2D)  (None, 152, 152, 64  0          ['leaky_re_lu_1[0][0]']          \n",
            "                                )                                                                 \n",
            "                                                                                                  \n",
            " conv2d_2 (Conv2D)              (None, 152, 152, 12  73728       ['max_pooling2d_1[0][0]']        \n",
            "                                8)                                                                \n",
            "                                                                                                  \n",
            " batch_normalization_2 (BatchNo  (None, 152, 152, 12  512        ['conv2d_2[0][0]']               \n",
            " rmalization)                   8)                                                                \n",
            "                                                                                                  \n",
            " leaky_re_lu_2 (LeakyReLU)      (None, 152, 152, 12  0           ['batch_normalization_2[0][0]']  \n",
            "                                8)                                                                \n",
            "                                                                                                  \n",
            " conv2d_3 (Conv2D)              (None, 152, 152, 64  8192        ['leaky_re_lu_2[0][0]']          \n",
            "                                )                                                                 \n",
            "                                                                                                  \n",
            " batch_normalization_3 (BatchNo  (None, 152, 152, 64  256        ['conv2d_3[0][0]']               \n",
            " rmalization)                   )                                                                 \n",
            "                                                                                                  \n",
            " leaky_re_lu_3 (LeakyReLU)      (None, 152, 152, 64  0           ['batch_normalization_3[0][0]']  \n",
            "                                )                                                                 \n",
            "                                                                                                  \n",
            " conv2d_4 (Conv2D)              (None, 152, 152, 12  73728       ['leaky_re_lu_3[0][0]']          \n",
            "                                8)                                                                \n",
            "                                                                                                  \n",
            " batch_normalization_4 (BatchNo  (None, 152, 152, 12  512        ['conv2d_4[0][0]']               \n",
            " rmalization)                   8)                                                                \n",
            "                                                                                                  \n",
            " leaky_re_lu_4 (LeakyReLU)      (None, 152, 152, 12  0           ['batch_normalization_4[0][0]']  \n",
            "                                8)                                                                \n",
            "                                                                                                  \n",
            " max_pooling2d_2 (MaxPooling2D)  (None, 76, 76, 128)  0          ['leaky_re_lu_4[0][0]']          \n",
            "                                                                                                  \n",
            " conv2d_5 (Conv2D)              (None, 76, 76, 256)  294912      ['max_pooling2d_2[0][0]']        \n",
            "                                                                                                  \n",
            " batch_normalization_5 (BatchNo  (None, 76, 76, 256)  1024       ['conv2d_5[0][0]']               \n",
            " rmalization)                                                                                     \n",
            "                                                                                                  \n",
            " leaky_re_lu_5 (LeakyReLU)      (None, 76, 76, 256)  0           ['batch_normalization_5[0][0]']  \n",
            "                                                                                                  \n",
            " conv2d_6 (Conv2D)              (None, 76, 76, 128)  32768       ['leaky_re_lu_5[0][0]']          \n",
            "                                                                                                  \n",
            " batch_normalization_6 (BatchNo  (None, 76, 76, 128)  512        ['conv2d_6[0][0]']               \n",
            " rmalization)                                                                                     \n",
            "                                                                                                  \n",
            " leaky_re_lu_6 (LeakyReLU)      (None, 76, 76, 128)  0           ['batch_normalization_6[0][0]']  \n",
            "                                                                                                  \n",
            " conv2d_7 (Conv2D)              (None, 76, 76, 256)  294912      ['leaky_re_lu_6[0][0]']          \n",
            "                                                                                                  \n",
            " batch_normalization_7 (BatchNo  (None, 76, 76, 256)  1024       ['conv2d_7[0][0]']               \n",
            " rmalization)                                                                                     \n",
            "                                                                                                  \n",
            " leaky_re_lu_7 (LeakyReLU)      (None, 76, 76, 256)  0           ['batch_normalization_7[0][0]']  \n",
            "                                                                                                  \n",
            " max_pooling2d_3 (MaxPooling2D)  (None, 38, 38, 256)  0          ['leaky_re_lu_7[0][0]']          \n",
            "                                                                                                  \n",
            " conv2d_8 (Conv2D)              (None, 38, 38, 512)  1179648     ['max_pooling2d_3[0][0]']        \n",
            "                                                                                                  \n",
            " batch_normalization_8 (BatchNo  (None, 38, 38, 512)  2048       ['conv2d_8[0][0]']               \n",
            " rmalization)                                                                                     \n",
            "                                                                                                  \n",
            " leaky_re_lu_8 (LeakyReLU)      (None, 38, 38, 512)  0           ['batch_normalization_8[0][0]']  \n",
            "                                                                                                  \n",
            " conv2d_9 (Conv2D)              (None, 38, 38, 256)  131072      ['leaky_re_lu_8[0][0]']          \n",
            "                                                                                                  \n",
            " batch_normalization_9 (BatchNo  (None, 38, 38, 256)  1024       ['conv2d_9[0][0]']               \n",
            " rmalization)                                                                                     \n",
            "                                                                                                  \n",
            " leaky_re_lu_9 (LeakyReLU)      (None, 38, 38, 256)  0           ['batch_normalization_9[0][0]']  \n",
            "                                                                                                  \n",
            " conv2d_10 (Conv2D)             (None, 38, 38, 512)  1179648     ['leaky_re_lu_9[0][0]']          \n",
            "                                                                                                  \n",
            " batch_normalization_10 (BatchN  (None, 38, 38, 512)  2048       ['conv2d_10[0][0]']              \n",
            " ormalization)                                                                                    \n",
            "                                                                                                  \n",
            " leaky_re_lu_10 (LeakyReLU)     (None, 38, 38, 512)  0           ['batch_normalization_10[0][0]'] \n",
            "                                                                                                  \n",
            " conv2d_11 (Conv2D)             (None, 38, 38, 256)  131072      ['leaky_re_lu_10[0][0]']         \n",
            "                                                                                                  \n",
            " batch_normalization_11 (BatchN  (None, 38, 38, 256)  1024       ['conv2d_11[0][0]']              \n",
            " ormalization)                                                                                    \n",
            "                                                                                                  \n",
            " leaky_re_lu_11 (LeakyReLU)     (None, 38, 38, 256)  0           ['batch_normalization_11[0][0]'] \n",
            "                                                                                                  \n",
            " conv2d_12 (Conv2D)             (None, 38, 38, 512)  1179648     ['leaky_re_lu_11[0][0]']         \n",
            "                                                                                                  \n",
            " batch_normalization_12 (BatchN  (None, 38, 38, 512)  2048       ['conv2d_12[0][0]']              \n",
            " ormalization)                                                                                    \n",
            "                                                                                                  \n",
            " leaky_re_lu_12 (LeakyReLU)     (None, 38, 38, 512)  0           ['batch_normalization_12[0][0]'] \n",
            "                                                                                                  \n",
            " max_pooling2d_4 (MaxPooling2D)  (None, 19, 19, 512)  0          ['leaky_re_lu_12[0][0]']         \n",
            "                                                                                                  \n",
            " conv2d_13 (Conv2D)             (None, 19, 19, 1024  4718592     ['max_pooling2d_4[0][0]']        \n",
            "                                )                                                                 \n",
            "                                                                                                  \n",
            " batch_normalization_13 (BatchN  (None, 19, 19, 1024  4096       ['conv2d_13[0][0]']              \n",
            " ormalization)                  )                                                                 \n",
            "                                                                                                  \n",
            " leaky_re_lu_13 (LeakyReLU)     (None, 19, 19, 1024  0           ['batch_normalization_13[0][0]'] \n",
            "                                )                                                                 \n",
            "                                                                                                  \n",
            " conv2d_14 (Conv2D)             (None, 19, 19, 512)  524288      ['leaky_re_lu_13[0][0]']         \n",
            "                                                                                                  \n",
            " batch_normalization_14 (BatchN  (None, 19, 19, 512)  2048       ['conv2d_14[0][0]']              \n",
            " ormalization)                                                                                    \n",
            "                                                                                                  \n",
            " leaky_re_lu_14 (LeakyReLU)     (None, 19, 19, 512)  0           ['batch_normalization_14[0][0]'] \n",
            "                                                                                                  \n",
            " conv2d_15 (Conv2D)             (None, 19, 19, 1024  4718592     ['leaky_re_lu_14[0][0]']         \n",
            "                                )                                                                 \n",
            "                                                                                                  \n",
            " batch_normalization_15 (BatchN  (None, 19, 19, 1024  4096       ['conv2d_15[0][0]']              \n",
            " ormalization)                  )                                                                 \n",
            "                                                                                                  \n",
            " leaky_re_lu_15 (LeakyReLU)     (None, 19, 19, 1024  0           ['batch_normalization_15[0][0]'] \n",
            "                                )                                                                 \n",
            "                                                                                                  \n",
            " conv2d_16 (Conv2D)             (None, 19, 19, 512)  524288      ['leaky_re_lu_15[0][0]']         \n",
            "                                                                                                  \n",
            " batch_normalization_16 (BatchN  (None, 19, 19, 512)  2048       ['conv2d_16[0][0]']              \n",
            " ormalization)                                                                                    \n",
            "                                                                                                  \n",
            " leaky_re_lu_16 (LeakyReLU)     (None, 19, 19, 512)  0           ['batch_normalization_16[0][0]'] \n",
            "                                                                                                  \n",
            " conv2d_17 (Conv2D)             (None, 19, 19, 1024  4718592     ['leaky_re_lu_16[0][0]']         \n",
            "                                )                                                                 \n",
            "                                                                                                  \n",
            " batch_normalization_17 (BatchN  (None, 19, 19, 1024  4096       ['conv2d_17[0][0]']              \n",
            " ormalization)                  )                                                                 \n",
            "                                                                                                  \n",
            " leaky_re_lu_17 (LeakyReLU)     (None, 19, 19, 1024  0           ['batch_normalization_17[0][0]'] \n",
            "                                )                                                                 \n",
            "                                                                                                  \n",
            " conv2d_18 (Conv2D)             (None, 19, 19, 1024  9437184     ['leaky_re_lu_17[0][0]']         \n",
            "                                )                                                                 \n",
            "                                                                                                  \n",
            " batch_normalization_18 (BatchN  (None, 19, 19, 1024  4096       ['conv2d_18[0][0]']              \n",
            " ormalization)                  )                                                                 \n",
            "                                                                                                  \n",
            " conv2d_20 (Conv2D)             (None, 38, 38, 64)   32768       ['leaky_re_lu_12[0][0]']         \n",
            "                                                                                                  \n",
            " leaky_re_lu_18 (LeakyReLU)     (None, 19, 19, 1024  0           ['batch_normalization_18[0][0]'] \n",
            "                                )                                                                 \n",
            "                                                                                                  \n",
            " batch_normalization_20 (BatchN  (None, 38, 38, 64)  256         ['conv2d_20[0][0]']              \n",
            " ormalization)                                                                                    \n",
            "                                                                                                  \n",
            " conv2d_19 (Conv2D)             (None, 19, 19, 1024  9437184     ['leaky_re_lu_18[0][0]']         \n",
            "                                )                                                                 \n",
            "                                                                                                  \n",
            " leaky_re_lu_20 (LeakyReLU)     (None, 38, 38, 64)   0           ['batch_normalization_20[0][0]'] \n",
            "                                                                                                  \n",
            " batch_normalization_19 (BatchN  (None, 19, 19, 1024  4096       ['conv2d_19[0][0]']              \n",
            " ormalization)                  )                                                                 \n",
            "                                                                                                  \n",
            " space_to_depth_x2 (Lambda)     (None, 19, 19, 256)  0           ['leaky_re_lu_20[0][0]']         \n",
            "                                                                                                  \n",
            " leaky_re_lu_19 (LeakyReLU)     (None, 19, 19, 1024  0           ['batch_normalization_19[0][0]'] \n",
            "                                )                                                                 \n",
            "                                                                                                  \n",
            " concatenate (Concatenate)      (None, 19, 19, 1280  0           ['space_to_depth_x2[0][0]',      \n",
            "                                )                                 'leaky_re_lu_19[0][0]']         \n",
            "                                                                                                  \n",
            " conv2d_21 (Conv2D)             (None, 19, 19, 1024  11796480    ['concatenate[0][0]']            \n",
            "                                )                                                                 \n",
            "                                                                                                  \n",
            " batch_normalization_21 (BatchN  (None, 19, 19, 1024  4096       ['conv2d_21[0][0]']              \n",
            " ormalization)                  )                                                                 \n",
            "                                                                                                  \n",
            " leaky_re_lu_21 (LeakyReLU)     (None, 19, 19, 1024  0           ['batch_normalization_21[0][0]'] \n",
            "                                )                                                                 \n",
            "                                                                                                  \n",
            " conv2d_22 (Conv2D)             (None, 19, 19, 425)  435625      ['leaky_re_lu_21[0][0]']         \n",
            "                                                                                                  \n",
            "==================================================================================================\n",
            "Total params: 50,983,561\n",
            "Trainable params: 50,962,889\n",
            "Non-trainable params: 20,672\n",
            "__________________________________________________________________________________________________\n",
            "None\n",
            "WARNING:tensorflow:Compiled the loaded model, but the compiled metrics have yet to be built. `model.compile_metrics` will be empty until you train or evaluate the model.\n",
            "Saved Keras model to model_data/yolo.h5\n",
            "Read 50983561 of 50983561.0 from Darknet weights.\n"
          ]
        }
      ]
    },
    {
      "cell_type": "code",
      "metadata": {
        "id": "CsTkU0GmhHc-",
        "colab": {
          "base_uri": "https://localhost:8080/"
        },
        "outputId": "666779a5-d71a-4084-bf0b-cb07bbb0740d"
      },
      "source": [
        "# You can get the yolo.h5 from YOLO website\n",
        "\n",
        "yolo_model = load_model(\"model_data/yolo.h5\")"
      ],
      "execution_count": 16,
      "outputs": [
        {
          "output_type": "stream",
          "name": "stderr",
          "text": [
            "WARNING:tensorflow:From /usr/local/lib/python3.10/dist-packages/keras/layers/normalization/batch_normalization.py:581: _colocate_with (from tensorflow.python.framework.ops) is deprecated and will be removed in a future version.\n",
            "Instructions for updating:\n",
            "Colocations handled automatically by placer.\n",
            "WARNING:tensorflow:No training configuration found in the save file, so the model was *not* compiled. Compile it manually.\n"
          ]
        }
      ]
    },
    {
      "cell_type": "markdown",
      "metadata": {
        "id": "Ps3pj3tAhHdM"
      },
      "source": [
        "This loads the weights of a trained YOLO model. Here's a summary of the layers your model contains."
      ]
    },
    {
      "cell_type": "code",
      "metadata": {
        "id": "vSwh-N1shHdN",
        "colab": {
          "base_uri": "https://localhost:8080/"
        },
        "outputId": "e4037440-0da5-425d-8772-41622d883304"
      },
      "source": [
        "yolo_model.summary()"
      ],
      "execution_count": 17,
      "outputs": [
        {
          "output_type": "stream",
          "name": "stdout",
          "text": [
            "Model: \"model\"\n",
            "__________________________________________________________________________________________________\n",
            " Layer (type)                   Output Shape         Param #     Connected to                     \n",
            "==================================================================================================\n",
            " input_1 (InputLayer)           [(None, 608, 608, 3  0           []                               \n",
            "                                )]                                                                \n",
            "                                                                                                  \n",
            " conv2d (Conv2D)                (None, 608, 608, 32  864         ['input_1[0][0]']                \n",
            "                                )                                                                 \n",
            "                                                                                                  \n",
            " batch_normalization (BatchNorm  (None, 608, 608, 32  128        ['conv2d[0][0]']                 \n",
            " alization)                     )                                                                 \n",
            "                                                                                                  \n",
            " leaky_re_lu (LeakyReLU)        (None, 608, 608, 32  0           ['batch_normalization[0][0]']    \n",
            "                                )                                                                 \n",
            "                                                                                                  \n",
            " max_pooling2d (MaxPooling2D)   (None, 304, 304, 32  0           ['leaky_re_lu[0][0]']            \n",
            "                                )                                                                 \n",
            "                                                                                                  \n",
            " conv2d_1 (Conv2D)              (None, 304, 304, 64  18432       ['max_pooling2d[0][0]']          \n",
            "                                )                                                                 \n",
            "                                                                                                  \n",
            " batch_normalization_1 (BatchNo  (None, 304, 304, 64  256        ['conv2d_1[0][0]']               \n",
            " rmalization)                   )                                                                 \n",
            "                                                                                                  \n",
            " leaky_re_lu_1 (LeakyReLU)      (None, 304, 304, 64  0           ['batch_normalization_1[0][0]']  \n",
            "                                )                                                                 \n",
            "                                                                                                  \n",
            " max_pooling2d_1 (MaxPooling2D)  (None, 152, 152, 64  0          ['leaky_re_lu_1[0][0]']          \n",
            "                                )                                                                 \n",
            "                                                                                                  \n",
            " conv2d_2 (Conv2D)              (None, 152, 152, 12  73728       ['max_pooling2d_1[0][0]']        \n",
            "                                8)                                                                \n",
            "                                                                                                  \n",
            " batch_normalization_2 (BatchNo  (None, 152, 152, 12  512        ['conv2d_2[0][0]']               \n",
            " rmalization)                   8)                                                                \n",
            "                                                                                                  \n",
            " leaky_re_lu_2 (LeakyReLU)      (None, 152, 152, 12  0           ['batch_normalization_2[0][0]']  \n",
            "                                8)                                                                \n",
            "                                                                                                  \n",
            " conv2d_3 (Conv2D)              (None, 152, 152, 64  8192        ['leaky_re_lu_2[0][0]']          \n",
            "                                )                                                                 \n",
            "                                                                                                  \n",
            " batch_normalization_3 (BatchNo  (None, 152, 152, 64  256        ['conv2d_3[0][0]']               \n",
            " rmalization)                   )                                                                 \n",
            "                                                                                                  \n",
            " leaky_re_lu_3 (LeakyReLU)      (None, 152, 152, 64  0           ['batch_normalization_3[0][0]']  \n",
            "                                )                                                                 \n",
            "                                                                                                  \n",
            " conv2d_4 (Conv2D)              (None, 152, 152, 12  73728       ['leaky_re_lu_3[0][0]']          \n",
            "                                8)                                                                \n",
            "                                                                                                  \n",
            " batch_normalization_4 (BatchNo  (None, 152, 152, 12  512        ['conv2d_4[0][0]']               \n",
            " rmalization)                   8)                                                                \n",
            "                                                                                                  \n",
            " leaky_re_lu_4 (LeakyReLU)      (None, 152, 152, 12  0           ['batch_normalization_4[0][0]']  \n",
            "                                8)                                                                \n",
            "                                                                                                  \n",
            " max_pooling2d_2 (MaxPooling2D)  (None, 76, 76, 128)  0          ['leaky_re_lu_4[0][0]']          \n",
            "                                                                                                  \n",
            " conv2d_5 (Conv2D)              (None, 76, 76, 256)  294912      ['max_pooling2d_2[0][0]']        \n",
            "                                                                                                  \n",
            " batch_normalization_5 (BatchNo  (None, 76, 76, 256)  1024       ['conv2d_5[0][0]']               \n",
            " rmalization)                                                                                     \n",
            "                                                                                                  \n",
            " leaky_re_lu_5 (LeakyReLU)      (None, 76, 76, 256)  0           ['batch_normalization_5[0][0]']  \n",
            "                                                                                                  \n",
            " conv2d_6 (Conv2D)              (None, 76, 76, 128)  32768       ['leaky_re_lu_5[0][0]']          \n",
            "                                                                                                  \n",
            " batch_normalization_6 (BatchNo  (None, 76, 76, 128)  512        ['conv2d_6[0][0]']               \n",
            " rmalization)                                                                                     \n",
            "                                                                                                  \n",
            " leaky_re_lu_6 (LeakyReLU)      (None, 76, 76, 128)  0           ['batch_normalization_6[0][0]']  \n",
            "                                                                                                  \n",
            " conv2d_7 (Conv2D)              (None, 76, 76, 256)  294912      ['leaky_re_lu_6[0][0]']          \n",
            "                                                                                                  \n",
            " batch_normalization_7 (BatchNo  (None, 76, 76, 256)  1024       ['conv2d_7[0][0]']               \n",
            " rmalization)                                                                                     \n",
            "                                                                                                  \n",
            " leaky_re_lu_7 (LeakyReLU)      (None, 76, 76, 256)  0           ['batch_normalization_7[0][0]']  \n",
            "                                                                                                  \n",
            " max_pooling2d_3 (MaxPooling2D)  (None, 38, 38, 256)  0          ['leaky_re_lu_7[0][0]']          \n",
            "                                                                                                  \n",
            " conv2d_8 (Conv2D)              (None, 38, 38, 512)  1179648     ['max_pooling2d_3[0][0]']        \n",
            "                                                                                                  \n",
            " batch_normalization_8 (BatchNo  (None, 38, 38, 512)  2048       ['conv2d_8[0][0]']               \n",
            " rmalization)                                                                                     \n",
            "                                                                                                  \n",
            " leaky_re_lu_8 (LeakyReLU)      (None, 38, 38, 512)  0           ['batch_normalization_8[0][0]']  \n",
            "                                                                                                  \n",
            " conv2d_9 (Conv2D)              (None, 38, 38, 256)  131072      ['leaky_re_lu_8[0][0]']          \n",
            "                                                                                                  \n",
            " batch_normalization_9 (BatchNo  (None, 38, 38, 256)  1024       ['conv2d_9[0][0]']               \n",
            " rmalization)                                                                                     \n",
            "                                                                                                  \n",
            " leaky_re_lu_9 (LeakyReLU)      (None, 38, 38, 256)  0           ['batch_normalization_9[0][0]']  \n",
            "                                                                                                  \n",
            " conv2d_10 (Conv2D)             (None, 38, 38, 512)  1179648     ['leaky_re_lu_9[0][0]']          \n",
            "                                                                                                  \n",
            " batch_normalization_10 (BatchN  (None, 38, 38, 512)  2048       ['conv2d_10[0][0]']              \n",
            " ormalization)                                                                                    \n",
            "                                                                                                  \n",
            " leaky_re_lu_10 (LeakyReLU)     (None, 38, 38, 512)  0           ['batch_normalization_10[0][0]'] \n",
            "                                                                                                  \n",
            " conv2d_11 (Conv2D)             (None, 38, 38, 256)  131072      ['leaky_re_lu_10[0][0]']         \n",
            "                                                                                                  \n",
            " batch_normalization_11 (BatchN  (None, 38, 38, 256)  1024       ['conv2d_11[0][0]']              \n",
            " ormalization)                                                                                    \n",
            "                                                                                                  \n",
            " leaky_re_lu_11 (LeakyReLU)     (None, 38, 38, 256)  0           ['batch_normalization_11[0][0]'] \n",
            "                                                                                                  \n",
            " conv2d_12 (Conv2D)             (None, 38, 38, 512)  1179648     ['leaky_re_lu_11[0][0]']         \n",
            "                                                                                                  \n",
            " batch_normalization_12 (BatchN  (None, 38, 38, 512)  2048       ['conv2d_12[0][0]']              \n",
            " ormalization)                                                                                    \n",
            "                                                                                                  \n",
            " leaky_re_lu_12 (LeakyReLU)     (None, 38, 38, 512)  0           ['batch_normalization_12[0][0]'] \n",
            "                                                                                                  \n",
            " max_pooling2d_4 (MaxPooling2D)  (None, 19, 19, 512)  0          ['leaky_re_lu_12[0][0]']         \n",
            "                                                                                                  \n",
            " conv2d_13 (Conv2D)             (None, 19, 19, 1024  4718592     ['max_pooling2d_4[0][0]']        \n",
            "                                )                                                                 \n",
            "                                                                                                  \n",
            " batch_normalization_13 (BatchN  (None, 19, 19, 1024  4096       ['conv2d_13[0][0]']              \n",
            " ormalization)                  )                                                                 \n",
            "                                                                                                  \n",
            " leaky_re_lu_13 (LeakyReLU)     (None, 19, 19, 1024  0           ['batch_normalization_13[0][0]'] \n",
            "                                )                                                                 \n",
            "                                                                                                  \n",
            " conv2d_14 (Conv2D)             (None, 19, 19, 512)  524288      ['leaky_re_lu_13[0][0]']         \n",
            "                                                                                                  \n",
            " batch_normalization_14 (BatchN  (None, 19, 19, 512)  2048       ['conv2d_14[0][0]']              \n",
            " ormalization)                                                                                    \n",
            "                                                                                                  \n",
            " leaky_re_lu_14 (LeakyReLU)     (None, 19, 19, 512)  0           ['batch_normalization_14[0][0]'] \n",
            "                                                                                                  \n",
            " conv2d_15 (Conv2D)             (None, 19, 19, 1024  4718592     ['leaky_re_lu_14[0][0]']         \n",
            "                                )                                                                 \n",
            "                                                                                                  \n",
            " batch_normalization_15 (BatchN  (None, 19, 19, 1024  4096       ['conv2d_15[0][0]']              \n",
            " ormalization)                  )                                                                 \n",
            "                                                                                                  \n",
            " leaky_re_lu_15 (LeakyReLU)     (None, 19, 19, 1024  0           ['batch_normalization_15[0][0]'] \n",
            "                                )                                                                 \n",
            "                                                                                                  \n",
            " conv2d_16 (Conv2D)             (None, 19, 19, 512)  524288      ['leaky_re_lu_15[0][0]']         \n",
            "                                                                                                  \n",
            " batch_normalization_16 (BatchN  (None, 19, 19, 512)  2048       ['conv2d_16[0][0]']              \n",
            " ormalization)                                                                                    \n",
            "                                                                                                  \n",
            " leaky_re_lu_16 (LeakyReLU)     (None, 19, 19, 512)  0           ['batch_normalization_16[0][0]'] \n",
            "                                                                                                  \n",
            " conv2d_17 (Conv2D)             (None, 19, 19, 1024  4718592     ['leaky_re_lu_16[0][0]']         \n",
            "                                )                                                                 \n",
            "                                                                                                  \n",
            " batch_normalization_17 (BatchN  (None, 19, 19, 1024  4096       ['conv2d_17[0][0]']              \n",
            " ormalization)                  )                                                                 \n",
            "                                                                                                  \n",
            " leaky_re_lu_17 (LeakyReLU)     (None, 19, 19, 1024  0           ['batch_normalization_17[0][0]'] \n",
            "                                )                                                                 \n",
            "                                                                                                  \n",
            " conv2d_18 (Conv2D)             (None, 19, 19, 1024  9437184     ['leaky_re_lu_17[0][0]']         \n",
            "                                )                                                                 \n",
            "                                                                                                  \n",
            " batch_normalization_18 (BatchN  (None, 19, 19, 1024  4096       ['conv2d_18[0][0]']              \n",
            " ormalization)                  )                                                                 \n",
            "                                                                                                  \n",
            " conv2d_20 (Conv2D)             (None, 38, 38, 64)   32768       ['leaky_re_lu_12[0][0]']         \n",
            "                                                                                                  \n",
            " leaky_re_lu_18 (LeakyReLU)     (None, 19, 19, 1024  0           ['batch_normalization_18[0][0]'] \n",
            "                                )                                                                 \n",
            "                                                                                                  \n",
            " batch_normalization_20 (BatchN  (None, 38, 38, 64)  256         ['conv2d_20[0][0]']              \n",
            " ormalization)                                                                                    \n",
            "                                                                                                  \n",
            " conv2d_19 (Conv2D)             (None, 19, 19, 1024  9437184     ['leaky_re_lu_18[0][0]']         \n",
            "                                )                                                                 \n",
            "                                                                                                  \n",
            " leaky_re_lu_20 (LeakyReLU)     (None, 38, 38, 64)   0           ['batch_normalization_20[0][0]'] \n",
            "                                                                                                  \n",
            " batch_normalization_19 (BatchN  (None, 19, 19, 1024  4096       ['conv2d_19[0][0]']              \n",
            " ormalization)                  )                                                                 \n",
            "                                                                                                  \n",
            " space_to_depth_x2 (Lambda)     (None, 19, 19, 256)  0           ['leaky_re_lu_20[0][0]']         \n",
            "                                                                                                  \n",
            " leaky_re_lu_19 (LeakyReLU)     (None, 19, 19, 1024  0           ['batch_normalization_19[0][0]'] \n",
            "                                )                                                                 \n",
            "                                                                                                  \n",
            " concatenate (Concatenate)      (None, 19, 19, 1280  0           ['space_to_depth_x2[0][0]',      \n",
            "                                )                                 'leaky_re_lu_19[0][0]']         \n",
            "                                                                                                  \n",
            " conv2d_21 (Conv2D)             (None, 19, 19, 1024  11796480    ['concatenate[0][0]']            \n",
            "                                )                                                                 \n",
            "                                                                                                  \n",
            " batch_normalization_21 (BatchN  (None, 19, 19, 1024  4096       ['conv2d_21[0][0]']              \n",
            " ormalization)                  )                                                                 \n",
            "                                                                                                  \n",
            " leaky_re_lu_21 (LeakyReLU)     (None, 19, 19, 1024  0           ['batch_normalization_21[0][0]'] \n",
            "                                )                                                                 \n",
            "                                                                                                  \n",
            " conv2d_22 (Conv2D)             (None, 19, 19, 425)  435625      ['leaky_re_lu_21[0][0]']         \n",
            "                                                                                                  \n",
            "==================================================================================================\n",
            "Total params: 50,983,561\n",
            "Trainable params: 50,962,889\n",
            "Non-trainable params: 20,672\n",
            "__________________________________________________________________________________________________\n"
          ]
        }
      ]
    },
    {
      "cell_type": "markdown",
      "metadata": {
        "id": "wBaQtH6AhHdb"
      },
      "source": [
        "**Note**: On some computers, you may see a warning message from Keras. Don't worry about it if you do--it is fine.\n",
        "\n",
        "**Reminder**: this model converts a preprocessed batch of input images (shape: (m, 608, 608, 3)) into a tensor of shape (m, 19, 19, 5, 85) as explained in Figure (2)."
      ]
    },
    {
      "cell_type": "markdown",
      "metadata": {
        "id": "52PmN6u6hHdd"
      },
      "source": [
        "### 3.3 - Convert output of the model to usable bounding box tensors\n",
        "\n",
        "The output of `yolo_model` is a (m, 19, 19, 5, 85) tensor that needs to pass through non-trivial processing and conversion. The following cell does that for you."
      ]
    },
    {
      "cell_type": "code",
      "metadata": {
        "id": "c6vLU_lhhHdf",
        "colab": {
          "base_uri": "https://localhost:8080/"
        },
        "outputId": "c03fefef-82ae-49aa-d1c9-6be5c94c083d"
      },
      "source": [
        "yolo_outputs = yolo_head(yolo_model.output, anchors, len(class_names))\n",
        "yolo_outputs"
      ],
      "execution_count": 18,
      "outputs": [
        {
          "output_type": "execute_result",
          "data": {
            "text/plain": [
              "(<tf.Tensor 'Sigmoid:0' shape=(?, ?, ?, 5, 1) dtype=float32>,\n",
              " <tf.Tensor 'truediv_2:0' shape=(?, ?, ?, 5, 2) dtype=float32>,\n",
              " <tf.Tensor 'truediv_3:0' shape=(?, ?, ?, 5, 2) dtype=float32>,\n",
              " <tf.Tensor 'Softmax:0' shape=(?, ?, ?, 5, 80) dtype=float32>)"
            ]
          },
          "metadata": {},
          "execution_count": 18
        }
      ]
    },
    {
      "cell_type": "markdown",
      "metadata": {
        "id": "Cp2tItV6hHds"
      },
      "source": [
        "You added `yolo_outputs` to your graph. This set of 4 tensors is ready to be used as input by your `yolo_eval` function."
      ]
    },
    {
      "cell_type": "markdown",
      "metadata": {
        "id": "sznugq6shHdu"
      },
      "source": [
        "### 3.4 - Filtering boxes\n",
        "\n",
        "`yolo_outputs` gave you all the predicted boxes of `yolo_model` in the correct format. You're now ready to perform filtering and select only the best boxes. Lets now call `yolo_eval`, which you had previously implemented, to do this. "
      ]
    },
    {
      "cell_type": "code",
      "metadata": {
        "id": "j2N5ygOahHdv",
        "colab": {
          "base_uri": "https://localhost:8080/"
        },
        "outputId": "a89691f0-8099-479a-aa94-51262fd973fd"
      },
      "source": [
        "scores, boxes, classes = yolo_eval(yolo_outputs, image_shape)\n",
        "scores, boxes, classes"
      ],
      "execution_count": 19,
      "outputs": [
        {
          "output_type": "execute_result",
          "data": {
            "text/plain": [
              "(<tf.Tensor 'GatherV2_6:0' shape=(?,) dtype=float32>,\n",
              " <tf.Tensor 'GatherV2_7:0' shape=(?, 4) dtype=float32>,\n",
              " <tf.Tensor 'GatherV2_8:0' shape=(?,) dtype=int64>)"
            ]
          },
          "metadata": {},
          "execution_count": 19
        }
      ]
    },
    {
      "cell_type": "markdown",
      "metadata": {
        "id": "Fnqv4-aRhHd8"
      },
      "source": [
        "### 3.5 - Run the graph on an image\n",
        "\n",
        "Let the fun begin. You have created a (`sess`) graph that can be summarized as follows:\n",
        "\n",
        "1. <font color='purple'> yolo_model.input </font> is given to `yolo_model`. The model is used to compute the output <font color='purple'> yolo_model.output </font>\n",
        "2. <font color='purple'> yolo_model.output </font> is processed by `yolo_head`. It gives you <font color='purple'> yolo_outputs </font>\n",
        "3. <font color='purple'> yolo_outputs </font> goes through a filtering function, `yolo_eval`. It outputs your predictions: <font color='purple'> scores, boxes, classes </font>\n",
        "\n",
        "**Exercise**: Implement predict() which runs the graph to test YOLO on an image.\n",
        "You will need to run a TensorFlow session, to have it compute `scores, boxes, classes`.\n",
        "\n",
        "The code below also uses the following function:\n",
        "```python\n",
        "image, image_data = preprocess_image(\"images/\" + image_file, model_image_size = (608, 608))\n",
        "```\n",
        "which outputs:\n",
        "- image: a python (PIL) representation of your image used for drawing boxes. You won't need to use it.\n",
        "- image_data: a numpy-array representing the image. This will be the input to the CNN.\n",
        "\n",
        "**Important note**: when a model uses BatchNorm (as is the case in YOLO), you will need to pass an additional placeholder in the feed_dict {K.learning_phase(): 0}."
      ]
    },
    {
      "cell_type": "code",
      "metadata": {
        "id": "36YLEvjzhHd-"
      },
      "source": [
        "def predict(sess, image_file):\n",
        "    \"\"\"\n",
        "    Runs the graph stored in \"sess\" to predict boxes for \"image_file\". Prints and plots the preditions.\n",
        "    \n",
        "    Arguments:\n",
        "    sess -- your tensorflow/Keras session containing the YOLO graph\n",
        "    image_file -- name of an image stored in the \"images\" folder.\n",
        "    \n",
        "    Returns:\n",
        "    out_scores -- tensor of shape (None, ), scores of the predicted boxes\n",
        "    out_boxes -- tensor of shape (None, 4), coordinates of the predicted boxes\n",
        "    out_classes -- tensor of shape (None, ), class index of the predicted boxes\n",
        "    \n",
        "    Note: \"None\" actually represents the number of predicted boxes, it varies between 0 and max_boxes. \n",
        "    \"\"\"\n",
        "\n",
        "    # Preprocess your image\n",
        "    image, image_data = preprocess_image(\"images/\" + image_file, model_image_size = (608, 608))\n",
        "\n",
        "    # Run the session with the correct tensors and choose the correct placeholders in the feed_dict.\n",
        "    # You'll need to use feed_dict={yolo_model.input: ... , K.learning_phase(): 0})\n",
        "    ### START CODE HERE ### (≈ 1 line)\n",
        "    out_scores, out_boxes, out_classes = sess.run([scores, boxes, classes],feed_dict={yolo_model.input: image_data, K.learning_phase():0 })\n",
        "    ### END CODE HERE ###\n",
        "\n",
        "    # Print predictions info\n",
        "    print('Found {} boxes for {}'.format(len(out_boxes), image_file))\n",
        "    # Generate colors for drawing bounding boxes.\n",
        "    colors = generate_colors(class_names)\n",
        "    # Draw bounding boxes on the image file\n",
        "    draw_boxes(image, out_scores, out_boxes, out_classes, class_names, colors)\n",
        "    # Save the predicted bounding box on the image\n",
        "    image.save(os.path.join(\"out\", image_file), quality=90)\n",
        "    # Display the results in the notebook\n",
        "    import imageio\n",
        "    output_image = imageio.v2.imread(os.path.join(\"out\", image_file))\n",
        "    imshow(output_image)\n",
        "    \n",
        "    return out_scores, out_boxes, out_classes"
      ],
      "execution_count": 20,
      "outputs": []
    },
    {
      "cell_type": "markdown",
      "metadata": {
        "id": "G0ldpA1phHeI"
      },
      "source": [
        "Run the following cell on the \"test.jpg\" image to verify that your function is correct."
      ]
    },
    {
      "cell_type": "code",
      "metadata": {
        "scrolled": false,
        "id": "hqoLQw8PhHeJ",
        "colab": {
          "base_uri": "https://localhost:8080/",
          "height": 467
        },
        "outputId": "3ffc14ca-4b6a-46a3-cb37-49c149d0a4ef"
      },
      "source": [
        "out_scores, out_boxes, out_classes = predict(sess, \"test.jpg\")"
      ],
      "execution_count": 22,
      "outputs": [
        {
          "output_type": "stream",
          "name": "stdout",
          "text": [
            "Found 6 boxes for test.jpg\n",
            "bus 0.62 (3, 264) (220, 408)\n",
            "car 0.64 (707, 279) (787, 349)\n",
            "car 0.68 (947, 323) (1280, 706)\n",
            "car 0.75 (159, 303) (346, 440)\n",
            "car 0.78 (762, 282) (944, 412)\n",
            "car 0.89 (366, 301) (745, 649)\n"
          ]
        },
        {
          "output_type": "display_data",
          "data": {
            "text/plain": [
              "<Figure size 640x480 with 1 Axes>"
            ],
            "image/png": "[encoded data removed]"
          },
          "metadata": {}
        }
      ]
    },
    {
      "cell_type": "markdown",
      "metadata": {
        "id": "OcsvLP0jhHeU"
      },
      "source": [
        "**Expected Output**:\n",
        "\n",
        "<table>\n",
        "    <tr>\n",
        "        <td>\n",
        "            **Found 7 boxes for test.jpg**\n",
        "        </td>\n",
        "    </tr>\n",
        "    <tr>\n",
        "        <td>\n",
        "            **car**\n",
        "        </td>\n",
        "        <td>\n",
        "           0.60 (925, 285) (1045, 374)\n",
        "        </td>\n",
        "    </tr>\n",
        "    <tr>\n",
        "        <td>\n",
        "            **car**\n",
        "        </td>\n",
        "        <td>\n",
        "           0.66 (706, 279) (786, 350)\n",
        "        </td>\n",
        "    </tr>\n",
        "    <tr>\n",
        "        <td>\n",
        "            **bus**\n",
        "        </td>\n",
        "        <td>\n",
        "           0.67 (5, 266) (220, 407)\n",
        "        </td>\n",
        "    </tr>\n",
        "    <tr>\n",
        "        <td>\n",
        "            **car**\n",
        "        </td>\n",
        "        <td>\n",
        "           0.70 (947, 324) (1280, 705)\n",
        "        </td>\n",
        "    </tr>\n",
        "    <tr>\n",
        "        <td>\n",
        "            **car**\n",
        "        </td>\n",
        "        <td>\n",
        "           0.74 (159, 303) (346, 440)\n",
        "        </td>\n",
        "    </tr>\n",
        "    <tr>\n",
        "        <td>\n",
        "            **car**\n",
        "        </td>\n",
        "        <td>\n",
        "           0.80 (761, 282) (942, 412)\n",
        "        </td>\n",
        "    </tr>\n",
        "    <tr>\n",
        "        <td>\n",
        "            **car**\n",
        "        </td>\n",
        "        <td>\n",
        "           0.89 (367, 300) (745, 648)\n",
        "        </td>\n",
        "    </tr>\n",
        "</table>"
      ]
    },
    {
      "cell_type": "markdown",
      "metadata": {
        "id": "koSYKA30hHeX"
      },
      "source": [
        "The model you've just run is actually able to detect 80 different classes listed in \"coco_classes.txt\". To test the model on your own images:\n",
        "    1. Click on \"File\" in the upper bar of this notebook, then click \"Open\" to go on your Coursera Hub.\n",
        "    2. Add your image to this Jupyter Notebook's directory, in the \"images\" folder\n",
        "    3. Write your image's name in the cell above code\n",
        "    4. Run the code and see the output of the algorithm!\n",
        "\n",
        "If you were to run your session in a for loop over all your images. Here's what you would get:\n",
        "\n",
        "<center>\n",
        "<video width=\"400\" height=\"200\" src=\"nb_images/pred_video_compressed2.mp4\" type=\"video/mp4\" controls>\n",
        "</video>\n",
        "</center>\n",
        "\n",
        "<caption><center> Predictions of the YOLO model on pictures taken from a camera while driving around the Silicon Valley <br> Thanks [drive.ai](https://www.drive.ai/) for providing this dataset! </center></caption>"
      ]
    },
    {
      "cell_type": "markdown",
      "metadata": {
        "collapsed": true,
        "id": "lagZnckHhHeZ"
      },
      "source": [
        "<font color='blue'>\n",
        "**What you should remember**:\n",
        "- YOLO is a state-of-the-art object detection model that is fast and accurate\n",
        "- It runs an input image through a CNN which outputs a 19x19x5x85 dimensional volume. \n",
        "- The encoding can be seen as a grid where each of the 19x19 cells contains information about 5 boxes.\n",
        "- You filter through all the boxes using non-max suppression. Specifically: \n",
        "    - Score thresholding on the probability of detecting a class to keep only accurate (high probability) boxes\n",
        "    - Intersection over Union (IoU) thresholding to eliminate overlapping boxes\n",
        "- Because training a YOLO model from randomly initialized weights is non-trivial and requires a large dataset as well as lot of computation, we used previously trained model parameters in this exercise. If you wish, you can also try fine-tuning the YOLO model with your own dataset, though this would be a fairly non-trivial exercise. "
      ]
    },
    {
      "cell_type": "markdown",
      "metadata": {
        "id": "qkH0sUbPhHeb"
      },
      "source": [
        "**References**: The ideas presented in this notebook came primarily from the two YOLO papers. The implementation here also took significant inspiration and used many components from Allan Zelener's github repository. The pretrained weights used in this exercise came from the official YOLO website. \n",
        "- Joseph Redmon, Santosh Divvala, Ross Girshick, Ali Farhadi - [You Only Look Once: Unified, Real-Time Object Detection](https://arxiv.org/abs/1506.02640) (2015)\n",
        "- Joseph Redmon, Ali Farhadi - [YOLO9000: Better, Faster, Stronger](https://arxiv.org/abs/1612.08242) (2016)\n",
        "- Allan Zelener - [YAD2K: Yet Another Darknet 2 Keras](https://github.com/allanzelener/YAD2K)\n",
        "- The official YOLO website (https://pjreddie.com/darknet/yolo/) "
      ]
    },
    {
      "cell_type": "markdown",
      "metadata": {
        "id": "D-bXuyvKhHec"
      },
      "source": [
        "**Car detection dataset**:\n",
        "<a rel=\"license\" href=\"http://creativecommons.org/licenses/by/4.0/\"><img alt=\"Creative Commons License\" style=\"border-width:0\" src=\"https://i.creativecommons.org/l/by/4.0/88x31.png\" /></a><br /><span xmlns:dct=\"http://purl.org/dc/terms/\" property=\"dct:title\">The Drive.ai Sample Dataset</span> (provided by drive.ai) is licensed under a <a rel=\"license\" href=\"http://creativecommons.org/licenses/by/4.0/\">Creative Commons Attribution 4.0 International License</a>. We are especially grateful to Brody Huval, Chih Hu and Rahul Patel for collecting and providing this dataset. "
      ]
    }
  ]
}